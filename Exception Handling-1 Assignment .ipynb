{
 "cells": [
  {
   "cell_type": "markdown",
   "id": "aad0dc20",
   "metadata": {},
   "source": [
    "Q1.What is an Exception in python? Write the difference between Exceptions and Syntax Errors?\n",
    "\n",
    "\n",
    "Ans.\n",
    "Exceptions are raised when some internal events occur which change the normal flow of the program.There are different types of excetion error in Python. They are as below:\n",
    "\n",
    "1. SyntaxError\n",
    "2. TypeError\n",
    "3. NameError\n",
    "4. IndexError\n",
    "5. KeyError\n",
    "6. ValueError \n",
    "\n",
    "\n",
    "Difference between Syntax Error and Exceptions:\n",
    "\n",
    "* Syntax Error: As the name suggests this error is caused by the wrong syntax in the code. It leads to the termination of the program. \n",
    "\n",
    "* Exceptions: Exceptions are raised when the program is syntactically correct, but the code results in an error. This error does not stop the execution of the program, however, it changes the normal flow of the program.\n",
    "\n",
    "\n",
    "\n",
    "\n",
    "\n"
   ]
  },
  {
   "cell_type": "markdown",
   "id": "b6af067c",
   "metadata": {},
   "source": [
    "Q2. What happens when an exception is not handled ? Explain with an example.\n",
    "\n",
    "Ans.\n",
    "When an exception is not handled,the program will give syntax errors and terminates the further program to execute. On the other hand when an exception is handled with try & except block,if errors occurs during the execution of program ,except will handle the program and will return the errors in easy understandlable way.\n",
    "\n"
   ]
  },
  {
   "cell_type": "code",
   "execution_count": 2,
   "id": "060c9657",
   "metadata": {},
   "outputs": [
    {
     "ename": "SyntaxError",
     "evalue": "expected ':' (3356918445.py, line 6)",
     "output_type": "error",
     "traceback": [
      "\u001b[1;36m  Cell \u001b[1;32mIn[2], line 6\u001b[1;36m\u001b[0m\n\u001b[1;33m    else\u001b[0m\n\u001b[1;37m        ^\u001b[0m\n\u001b[1;31mSyntaxError\u001b[0m\u001b[1;31m:\u001b[0m expected ':'\n"
     ]
    }
   ],
   "source": [
    "### Syntax error\n",
    "\n",
    "for i in range(10):\n",
    "    if i>10:\n",
    "        print(\"YEs\")\n",
    "    else\n",
    "        print(\"Ok\")"
   ]
  },
  {
   "cell_type": "markdown",
   "id": "ade9fe13",
   "metadata": {},
   "source": [
    "Q3. Which Python statement are used to catch and handle exception? Explain with an example.\n",
    "\n",
    "Ans.\n",
    "In Python,Exception Handling can be done using four different keywords:\n",
    "      \n",
    "      1. try\n",
    "      2. except\n",
    "      3. else\n",
    "      4. finally\n",
    "   "
   ]
  },
  {
   "cell_type": "code",
   "execution_count": 7,
   "id": "a595216b",
   "metadata": {},
   "outputs": [
    {
     "name": "stdout",
     "output_type": "stream",
     "text": [
      "If try block catch error,then except block handle that error [Errno 2] No such file or directory: 'xyz.txt'\n"
     ]
    }
   ],
   "source": [
    "## using try and except keyword to handle error\n",
    "\n",
    "try:\n",
    "    f = open(\"xyz.txt\",'r')\n",
    "    f.read()\n",
    "except Exception as e:\n",
    "    print(\"If try block catch error,then except block handle that error\",e)\n",
    "    \n",
    "    \n",
    "\n"
   ]
  },
  {
   "cell_type": "markdown",
   "id": "e387d3df",
   "metadata": {},
   "source": [
    "Q4.Explain with an example :\n",
    "\n",
    "a. try & except\n",
    "\n",
    "b. finally\n",
    "\n",
    "c. raise\n"
   ]
  },
  {
   "cell_type": "markdown",
   "id": "4c965e4f",
   "metadata": {},
   "source": [
    "A. try and except :\n",
    " \" try \" and \"except\" are Python keywords used to handle the error occurs during the execution of program.If try block catches any error then except block will execute and  return error as per the programmer have handled.\n",
    " "
   ]
  },
  {
   "cell_type": "code",
   "execution_count": 8,
   "id": "854b3227",
   "metadata": {},
   "outputs": [
    {
     "name": "stdout",
     "output_type": "stream",
     "text": [
      "Try block catches an error. division by zero\n"
     ]
    }
   ],
   "source": [
    "## Zero divsion error \n",
    "\n",
    "try:\n",
    "    a = 100\n",
    "    b=a/0\n",
    "    print(b)\n",
    "except Exception as e:\n",
    "    print(\"Try block catches an error.\",e)\n"
   ]
  },
  {
   "cell_type": "markdown",
   "id": "8ee0ac32",
   "metadata": {},
   "source": [
    "B. finally :\n",
    "In Exception Handling,finally keyword is independent despite of being try,except and else block will perform their respective task,finally will always execute.\n"
   ]
  },
  {
   "cell_type": "code",
   "execution_count": 12,
   "id": "c50f7682",
   "metadata": {},
   "outputs": [],
   "source": [
    "## finally keyword\n",
    "\n",
    "try:\n",
    "    f = open(\"pqr.txt\",\"w\")\n",
    "    f.write(\"This is my text file\")\n",
    "except Exception :\n",
    "    print(\"If try catches error, except will execute\")\n",
    "finally:\n",
    "    f.close()  ## always execute "
   ]
  },
  {
   "cell_type": "markdown",
   "id": "a3280c28",
   "metadata": {},
   "source": [
    "C. raise :\n",
    "\"raise\" keyword are defined while defining the class and function.It will raise the user-defined error defined in a function.We  can say custom Handling as well.\n",
    "\n"
   ]
  },
  {
   "cell_type": "markdown",
   "id": "0324144b",
   "metadata": {},
   "source": [
    "Q4. What are custom exception in Python? Why do we need Custom Exceptions? Explain with an example.\n",
    "\n",
    "\n",
    "Ans.\n",
    "Python throws errors and exceptions when the code goes wrong, which may cause the program to stop abruptly. Python also provides an exception handling method with the help of try-except. Some of the standard exceptions which are most frequent include IndexError, ImportError, IOError, ZeroDivisionError, TypeError, and FileNotFoundError.\n",
    "\n",
    "Exceptions need to be derived from the Exception class, either directly or indirectly. Although not mandatory, most of the exceptions are named as names that end in “Error” similar to the naming of the standard exceptions in python\n"
   ]
  },
  {
   "cell_type": "code",
   "execution_count": 16,
   "id": "98a086d0",
   "metadata": {},
   "outputs": [
    {
     "ename": "customError",
     "evalue": "Example of custom Exception in Python",
     "output_type": "error",
     "traceback": [
      "\u001b[1;31m---------------------------------------------------------------------------\u001b[0m",
      "\u001b[1;31mcustomError\u001b[0m                               Traceback (most recent call last)",
      "Cell \u001b[1;32mIn[16], line 5\u001b[0m\n\u001b[0;32m      3\u001b[0m \u001b[38;5;28;01mclass\u001b[39;00m \u001b[38;5;21;01mcustomError\u001b[39;00m(\u001b[38;5;167;01mException\u001b[39;00m):\n\u001b[0;32m      4\u001b[0m     \u001b[38;5;28;01mpass\u001b[39;00m\n\u001b[1;32m----> 5\u001b[0m \u001b[38;5;28;01mraise\u001b[39;00m customError(\u001b[38;5;124m\"\u001b[39m\u001b[38;5;124mExample of custom Exception in Python\u001b[39m\u001b[38;5;124m\"\u001b[39m)\n",
      "\u001b[1;31mcustomError\u001b[0m: Example of custom Exception in Python"
     ]
    }
   ],
   "source": [
    "# Example: \n",
    "\n",
    "class customError(Exception):\n",
    "    pass\n",
    "raise customError(\"Example of custom Exception in Python\")\n",
    "\n",
    "\n",
    "    "
   ]
  },
  {
   "cell_type": "markdown",
   "id": "ddb4b3ca",
   "metadata": {},
   "source": [
    "Q6. Create custom exception class. Use this class to handle an exception."
   ]
  },
  {
   "cell_type": "code",
   "execution_count": 23,
   "id": "7655c1fc",
   "metadata": {},
   "outputs": [
    {
     "name": "stdout",
     "output_type": "stream",
     "text": [
      "Enter the number :0\n",
      "Input value is zero,Try Again\n",
      "\n"
     ]
    }
   ],
   "source": [
    "class Error(Exception):\n",
    "    pass \n",
    "class zerodivision(Error):\n",
    "    pass\n",
    "\n",
    "try:\n",
    "    a= int(input(\"Enter the number :\"))\n",
    "    if a==0:\n",
    "        raise zerodivision\n",
    "except zerodivision:\n",
    "    print(\"Input value is zero,Try Again\")\n",
    "    print()"
   ]
  },
  {
   "cell_type": "code",
   "execution_count": null,
   "id": "11942015",
   "metadata": {},
   "outputs": [],
   "source": []
  }
 ],
 "metadata": {
  "kernelspec": {
   "display_name": "Python 3 (ipykernel)",
   "language": "python",
   "name": "python3"
  },
  "language_info": {
   "codemirror_mode": {
    "name": "ipython",
    "version": 3
   },
   "file_extension": ".py",
   "mimetype": "text/x-python",
   "name": "python",
   "nbconvert_exporter": "python",
   "pygments_lexer": "ipython3",
   "version": "3.11.5"
  }
 },
 "nbformat": 4,
 "nbformat_minor": 5
}
