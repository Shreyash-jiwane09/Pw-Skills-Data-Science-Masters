{
 "cells": [
  {
   "cell_type": "markdown",
   "id": "18c1c9f8",
   "metadata": {},
   "source": [
    "**Q1. Create a Pandas Series that contains the following data: 4, 8, 15, 16, 23, and 42. Then, print the series.**"
   ]
  },
  {
   "cell_type": "code",
   "execution_count": 3,
   "id": "3aa033f9",
   "metadata": {},
   "outputs": [
    {
     "data": {
      "text/plain": [
       "0     4\n",
       "1     8\n",
       "2    15\n",
       "3    16\n",
       "4    23\n",
       "5    42\n",
       "dtype: int64"
      ]
     },
     "execution_count": 3,
     "metadata": {},
     "output_type": "execute_result"
    }
   ],
   "source": [
    "import pandas as pd\n",
    "series1= pd.Series([ 4, 8, 15, 16, 23,42])\n",
    "series1"
   ]
  },
  {
   "cell_type": "markdown",
   "id": "71e6b810",
   "metadata": {},
   "source": [
    "**Q2. Create a variable of list type containing 10 elements in it, and apply pandas.Series function on the\n",
    "variable print it.**"
   ]
  },
  {
   "cell_type": "code",
   "execution_count": 14,
   "id": "fa53f21b",
   "metadata": {},
   "outputs": [
    {
     "name": "stdout",
     "output_type": "stream",
     "text": [
      "[1, 4, 9, 16, 25, 36, 49, 64, 81, 100]\n"
     ]
    }
   ],
   "source": [
    "#creating varaible list containing even number from 1 to 10\n",
    "\n",
    "l1 = [(i+1)**2 for i in range(10) ] \n",
    "print(l1)\n"
   ]
  },
  {
   "cell_type": "code",
   "execution_count": 22,
   "id": "72da3ea8",
   "metadata": {},
   "outputs": [
    {
     "data": {
      "text/plain": [
       "0      1\n",
       "1      4\n",
       "2      9\n",
       "3     16\n",
       "4     25\n",
       "5     36\n",
       "6     49\n",
       "7     64\n",
       "8     81\n",
       "9    100\n",
       "dtype: int64"
      ]
     },
     "execution_count": 22,
     "metadata": {},
     "output_type": "execute_result"
    }
   ],
   "source": [
    "import pandas as pd \n",
    "series2 = pd.Series(l1)\n",
    "series2"
   ]
  },
  {
   "cell_type": "markdown",
   "id": "dea8b490",
   "metadata": {},
   "source": [
    "**Q3.Create a Pandas DataFrame that contains the following data:**\n",
    "\n",
    "|    Name      |     Age   |  Gender    |\n",
    "|--------------|-----------|------------|\n",
    "| Alice        |25         |Female      |\n",
    "| Bob          |30         |Male        |\n",
    "| Claire       |27         |Female      |\n",
    "\n",
    "**Then, print the DataFrame.**\n"
   ]
  },
  {
   "cell_type": "code",
   "execution_count": 19,
   "id": "82351c33",
   "metadata": {},
   "outputs": [
    {
     "name": "stdout",
     "output_type": "stream",
     "text": [
      "{'Name': ['Alice', 'Bob', 'Claire'], 'Age': [25, 30, 27], 'Gender': ['Female', 'Male', 'Female']}\n"
     ]
    }
   ],
   "source": [
    "dict1 = {\n",
    "    \"Name\":[\"Alice\",\"Bob\",\"Claire\"],\n",
    "    \"Age\":[25,30,27],\n",
    "    \"Gender\":[\"Female\",\"Male\",\"Female\"]\n",
    "}"
   ]
  },
  {
   "cell_type": "code",
   "execution_count": 23,
   "id": "51d41431",
   "metadata": {},
   "outputs": [
    {
     "data": {
      "text/html": [
       "<div>\n",
       "<style scoped>\n",
       "    .dataframe tbody tr th:only-of-type {\n",
       "        vertical-align: middle;\n",
       "    }\n",
       "\n",
       "    .dataframe tbody tr th {\n",
       "        vertical-align: top;\n",
       "    }\n",
       "\n",
       "    .dataframe thead th {\n",
       "        text-align: right;\n",
       "    }\n",
       "</style>\n",
       "<table border=\"1\" class=\"dataframe\">\n",
       "  <thead>\n",
       "    <tr style=\"text-align: right;\">\n",
       "      <th></th>\n",
       "      <th>Name</th>\n",
       "      <th>Age</th>\n",
       "      <th>Gender</th>\n",
       "    </tr>\n",
       "  </thead>\n",
       "  <tbody>\n",
       "    <tr>\n",
       "      <th>0</th>\n",
       "      <td>Alice</td>\n",
       "      <td>25</td>\n",
       "      <td>Female</td>\n",
       "    </tr>\n",
       "    <tr>\n",
       "      <th>1</th>\n",
       "      <td>Bob</td>\n",
       "      <td>30</td>\n",
       "      <td>Male</td>\n",
       "    </tr>\n",
       "    <tr>\n",
       "      <th>2</th>\n",
       "      <td>Claire</td>\n",
       "      <td>27</td>\n",
       "      <td>Female</td>\n",
       "    </tr>\n",
       "  </tbody>\n",
       "</table>\n",
       "</div>"
      ],
      "text/plain": [
       "     Name  Age  Gender\n",
       "0   Alice   25  Female\n",
       "1     Bob   30    Male\n",
       "2  Claire   27  Female"
      ]
     },
     "execution_count": 23,
     "metadata": {},
     "output_type": "execute_result"
    }
   ],
   "source": [
    "df=pd.DataFrame(dict1)\n",
    "df"
   ]
  },
  {
   "cell_type": "markdown",
   "id": "27c62abc",
   "metadata": {},
   "source": [
    "**Q4. What is ‘DataFrame’ in pandas and how is it different from pandas.series? Explain with an example.**"
   ]
  },
  {
   "cell_type": "markdown",
   "id": "28d81c21",
   "metadata": {},
   "source": [
    "**A DataFrame in pandas is a two-dimensional labeled data structure with columns of potentially different types. It is similar to a spreadsheet or a SQL table, where data is organized in rows and columns. Each column can contain a different type of data, such as numbers, strings, or dates.**\n",
    "\n",
    "**On the other hand, a pandas Series is a one-dimensional labeled array that can contain data of any type, such as integers, strings, or booleans. It is similar to a column in a DataFrame.**"
   ]
  },
  {
   "cell_type": "code",
   "execution_count": 25,
   "id": "21f1ee01",
   "metadata": {},
   "outputs": [],
   "source": [
    "##Example to show show dataframe which is 2-Dimensional \n",
    "\n",
    "#dictionary for dataframe\n",
    "company_details={\n",
    "    \"Name\":[\"Shreyash\",\"Srish\",\"Sudhanshu\",\"Mohan\"],\n",
    "    \"emp_id\":[121,131,141,151],\n",
    "    \"email_id\":[\"shrey@gmail.com\",\"krish@gmail.com\",\"sudh@gmail.com\",\"mohan@gmail.com\"],\n",
    "    \"designation\":[\"Developer\",\"CEO\",\"Mentor\",\"MLops\"]\n",
    "}"
   ]
  },
  {
   "cell_type": "code",
   "execution_count": 29,
   "id": "e268ae44",
   "metadata": {},
   "outputs": [
    {
     "data": {
      "text/html": [
       "<div>\n",
       "<style scoped>\n",
       "    .dataframe tbody tr th:only-of-type {\n",
       "        vertical-align: middle;\n",
       "    }\n",
       "\n",
       "    .dataframe tbody tr th {\n",
       "        vertical-align: top;\n",
       "    }\n",
       "\n",
       "    .dataframe thead th {\n",
       "        text-align: right;\n",
       "    }\n",
       "</style>\n",
       "<table border=\"1\" class=\"dataframe\">\n",
       "  <thead>\n",
       "    <tr style=\"text-align: right;\">\n",
       "      <th></th>\n",
       "      <th>Name</th>\n",
       "      <th>emp_id</th>\n",
       "      <th>email_id</th>\n",
       "      <th>designation</th>\n",
       "    </tr>\n",
       "  </thead>\n",
       "  <tbody>\n",
       "    <tr>\n",
       "      <th>0</th>\n",
       "      <td>Shreyash</td>\n",
       "      <td>121</td>\n",
       "      <td>shrey@gmail.com</td>\n",
       "      <td>Developer</td>\n",
       "    </tr>\n",
       "    <tr>\n",
       "      <th>1</th>\n",
       "      <td>Srish</td>\n",
       "      <td>131</td>\n",
       "      <td>krish@gmail.com</td>\n",
       "      <td>CEO</td>\n",
       "    </tr>\n",
       "    <tr>\n",
       "      <th>2</th>\n",
       "      <td>Sudhanshu</td>\n",
       "      <td>141</td>\n",
       "      <td>sudh@gmail.com</td>\n",
       "      <td>Mentor</td>\n",
       "    </tr>\n",
       "    <tr>\n",
       "      <th>3</th>\n",
       "      <td>Mohan</td>\n",
       "      <td>151</td>\n",
       "      <td>mohan@gmail.com</td>\n",
       "      <td>MLops</td>\n",
       "    </tr>\n",
       "  </tbody>\n",
       "</table>\n",
       "</div>"
      ],
      "text/plain": [
       "        Name  emp_id         email_id designation\n",
       "0   Shreyash     121  shrey@gmail.com   Developer\n",
       "1      Srish     131  krish@gmail.com         CEO\n",
       "2  Sudhanshu     141   sudh@gmail.com      Mentor\n",
       "3      Mohan     151  mohan@gmail.com       MLops"
      ]
     },
     "execution_count": 29,
     "metadata": {},
     "output_type": "execute_result"
    }
   ],
   "source": [
    "import pandas as pd\n",
    "df1=pd.DataFrame(company_details)\n",
    "df1\n"
   ]
  },
  {
   "cell_type": "code",
   "execution_count": 30,
   "id": "3f13354d",
   "metadata": {},
   "outputs": [
    {
     "data": {
      "text/plain": [
       "pandas.core.frame.DataFrame"
      ]
     },
     "execution_count": 30,
     "metadata": {},
     "output_type": "execute_result"
    }
   ],
   "source": [
    "type(df1)"
   ]
  },
  {
   "cell_type": "markdown",
   "id": "622940be",
   "metadata": {},
   "source": [
    "Data type of given dataset is data frame which is 2-dimensional."
   ]
  },
  {
   "cell_type": "code",
   "execution_count": 31,
   "id": "db967d9d",
   "metadata": {},
   "outputs": [
    {
     "data": {
      "text/plain": [
       "0    Developer\n",
       "1          CEO\n",
       "2       Mentor\n",
       "3        MLops\n",
       "Name: designation, dtype: object"
      ]
     },
     "execution_count": 31,
     "metadata": {},
     "output_type": "execute_result"
    }
   ],
   "source": [
    "#Using the existing data set to show series in pandas \n",
    "df2 = df1[\"designation\"]\n",
    "df2"
   ]
  },
  {
   "cell_type": "code",
   "execution_count": 32,
   "id": "5caf63df",
   "metadata": {},
   "outputs": [
    {
     "data": {
      "text/plain": [
       "pandas.core.series.Series"
      ]
     },
     "execution_count": 32,
     "metadata": {},
     "output_type": "execute_result"
    }
   ],
   "source": [
    "type(df2)"
   ]
  },
  {
   "cell_type": "markdown",
   "id": "734f4606",
   "metadata": {},
   "source": [
    "**Q5. What are some common functions you can use to manipulate data in a Pandas DataFrame? Can you give an example of when you might use one of these functions?**"
   ]
  },
  {
   "cell_type": "code",
   "execution_count": 37,
   "id": "fccdfd0e",
   "metadata": {},
   "outputs": [],
   "source": [
    "#Creating dictionary for data set \n",
    "\n",
    "company_sales={\n",
    "    \"Name\":[\"Shreyash\",\"Krish\",\"Sudhanshu\",\"Mohan\"],\n",
    "    \"emp_id\":[121,None,141,151],\n",
    "    \"email_id\":[\"shrey@gmail.com\",\"krish@gmail.com\",\"sudh@gmail.com\",\"mohan@gmail.com\"],\n",
    "    \"designation\":[\"Developer\",\"CEO\",\"Mentor\",\"MLops\"],\n",
    "    \"sales\":[50000,45325,4578,None]\n",
    "}"
   ]
  },
  {
   "cell_type": "code",
   "execution_count": 38,
   "id": "a700a9ce",
   "metadata": {},
   "outputs": [
    {
     "data": {
      "text/html": [
       "<div>\n",
       "<style scoped>\n",
       "    .dataframe tbody tr th:only-of-type {\n",
       "        vertical-align: middle;\n",
       "    }\n",
       "\n",
       "    .dataframe tbody tr th {\n",
       "        vertical-align: top;\n",
       "    }\n",
       "\n",
       "    .dataframe thead th {\n",
       "        text-align: right;\n",
       "    }\n",
       "</style>\n",
       "<table border=\"1\" class=\"dataframe\">\n",
       "  <thead>\n",
       "    <tr style=\"text-align: right;\">\n",
       "      <th></th>\n",
       "      <th>Name</th>\n",
       "      <th>emp_id</th>\n",
       "      <th>email_id</th>\n",
       "      <th>designation</th>\n",
       "      <th>sales</th>\n",
       "    </tr>\n",
       "  </thead>\n",
       "  <tbody>\n",
       "    <tr>\n",
       "      <th>0</th>\n",
       "      <td>Shreyash</td>\n",
       "      <td>121.0</td>\n",
       "      <td>shrey@gmail.com</td>\n",
       "      <td>Developer</td>\n",
       "      <td>50000.0</td>\n",
       "    </tr>\n",
       "    <tr>\n",
       "      <th>1</th>\n",
       "      <td>Krish</td>\n",
       "      <td>NaN</td>\n",
       "      <td>krish@gmail.com</td>\n",
       "      <td>CEO</td>\n",
       "      <td>45325.0</td>\n",
       "    </tr>\n",
       "    <tr>\n",
       "      <th>2</th>\n",
       "      <td>Sudhanshu</td>\n",
       "      <td>141.0</td>\n",
       "      <td>sudh@gmail.com</td>\n",
       "      <td>Mentor</td>\n",
       "      <td>4578.0</td>\n",
       "    </tr>\n",
       "    <tr>\n",
       "      <th>3</th>\n",
       "      <td>Mohan</td>\n",
       "      <td>151.0</td>\n",
       "      <td>mohan@gmail.com</td>\n",
       "      <td>MLops</td>\n",
       "      <td>NaN</td>\n",
       "    </tr>\n",
       "  </tbody>\n",
       "</table>\n",
       "</div>"
      ],
      "text/plain": [
       "        Name  emp_id         email_id designation    sales\n",
       "0   Shreyash   121.0  shrey@gmail.com   Developer  50000.0\n",
       "1      Krish     NaN  krish@gmail.com         CEO  45325.0\n",
       "2  Sudhanshu   141.0   sudh@gmail.com      Mentor   4578.0\n",
       "3      Mohan   151.0  mohan@gmail.com       MLops      NaN"
      ]
     },
     "execution_count": 38,
     "metadata": {},
     "output_type": "execute_result"
    }
   ],
   "source": [
    "df3=pd.DataFrame(company_sales)\n",
    "df3"
   ]
  },
  {
   "cell_type": "markdown",
   "id": "d48d14d6",
   "metadata": {},
   "source": [
    "**Dropping the missing values in DataFrame, it can be done using the dropna() method, it removes all the NaN values in the dataframe.**"
   ]
  },
  {
   "cell_type": "code",
   "execution_count": 40,
   "id": "23853186",
   "metadata": {},
   "outputs": [
    {
     "data": {
      "text/html": [
       "<div>\n",
       "<style scoped>\n",
       "    .dataframe tbody tr th:only-of-type {\n",
       "        vertical-align: middle;\n",
       "    }\n",
       "\n",
       "    .dataframe tbody tr th {\n",
       "        vertical-align: top;\n",
       "    }\n",
       "\n",
       "    .dataframe thead th {\n",
       "        text-align: right;\n",
       "    }\n",
       "</style>\n",
       "<table border=\"1\" class=\"dataframe\">\n",
       "  <thead>\n",
       "    <tr style=\"text-align: right;\">\n",
       "      <th></th>\n",
       "      <th>Name</th>\n",
       "      <th>emp_id</th>\n",
       "      <th>email_id</th>\n",
       "      <th>designation</th>\n",
       "      <th>sales</th>\n",
       "    </tr>\n",
       "  </thead>\n",
       "  <tbody>\n",
       "    <tr>\n",
       "      <th>0</th>\n",
       "      <td>Shreyash</td>\n",
       "      <td>121.0</td>\n",
       "      <td>shrey@gmail.com</td>\n",
       "      <td>Developer</td>\n",
       "      <td>50000.0</td>\n",
       "    </tr>\n",
       "    <tr>\n",
       "      <th>2</th>\n",
       "      <td>Sudhanshu</td>\n",
       "      <td>141.0</td>\n",
       "      <td>sudh@gmail.com</td>\n",
       "      <td>Mentor</td>\n",
       "      <td>4578.0</td>\n",
       "    </tr>\n",
       "  </tbody>\n",
       "</table>\n",
       "</div>"
      ],
      "text/plain": [
       "        Name  emp_id         email_id designation    sales\n",
       "0   Shreyash   121.0  shrey@gmail.com   Developer  50000.0\n",
       "2  Sudhanshu   141.0   sudh@gmail.com      Mentor   4578.0"
      ]
     },
     "execution_count": 40,
     "metadata": {},
     "output_type": "execute_result"
    }
   ],
   "source": [
    "df3.dropna()"
   ]
  },
  {
   "cell_type": "markdown",
   "id": "0b3070fd",
   "metadata": {},
   "source": [
    "**Q6. Which of the following is mutable in nature Series, DataFrame, Panel?**"
   ]
  },
  {
   "cell_type": "markdown",
   "id": "f85f8824",
   "metadata": {},
   "source": [
    "**In pandas, Series and DataFrame are mutable in nature.**\n",
    "\n",
    "**Panel is considered immutable.**\n",
    "\n",
    "**That means, Series and DataFrame objects can be modified after they are created, and any changes made to them will be reflected in the original objects. On the other hand, Panel objects are generally not modified once created, and any changes made to them usually result in the creation of a new object.**\n",
    "**Note that while Series and DataFrame objects are mutable, it is generally recommended to avoid modifying them in place, as this can lead to unexpected results and errors. Instead, it is often better to create a new object with the desired modifications.**"
   ]
  },
  {
   "cell_type": "markdown",
   "id": "25194139",
   "metadata": {},
   "source": [
    "**Q7. Create a DataFrame using multiple Series. Explain with an example.**"
   ]
  },
  {
   "cell_type": "markdown",
   "id": "4d077ebc",
   "metadata": {},
   "source": [
    "**By using concat() method you can merge multiple series together into DataFrame. This takes several params, for our scenario we use list that takes series to combine and axis=1 to specify merge series as columns instead of rows. Note that using axis=0 appends series to rows instead of columns.**"
   ]
  },
  {
   "cell_type": "code",
   "execution_count": 49,
   "id": "0dedd010",
   "metadata": {},
   "outputs": [
    {
     "data": {
      "text/html": [
       "<div>\n",
       "<style scoped>\n",
       "    .dataframe tbody tr th:only-of-type {\n",
       "        vertical-align: middle;\n",
       "    }\n",
       "\n",
       "    .dataframe tbody tr th {\n",
       "        vertical-align: top;\n",
       "    }\n",
       "\n",
       "    .dataframe thead th {\n",
       "        text-align: right;\n",
       "    }\n",
       "</style>\n",
       "<table border=\"1\" class=\"dataframe\">\n",
       "  <thead>\n",
       "    <tr style=\"text-align: right;\">\n",
       "      <th></th>\n",
       "      <th>course</th>\n",
       "      <th>fees</th>\n",
       "      <th>discount</th>\n",
       "    </tr>\n",
       "  </thead>\n",
       "  <tbody>\n",
       "    <tr>\n",
       "      <th>0</th>\n",
       "      <td>Data Science Masters</td>\n",
       "      <td>7000</td>\n",
       "      <td>3500</td>\n",
       "    </tr>\n",
       "    <tr>\n",
       "      <th>1</th>\n",
       "      <td>Java with DSA</td>\n",
       "      <td>7500</td>\n",
       "      <td>3000</td>\n",
       "    </tr>\n",
       "    <tr>\n",
       "      <th>2</th>\n",
       "      <td>Full Stack Web Development</td>\n",
       "      <td>8000</td>\n",
       "      <td>2500</td>\n",
       "    </tr>\n",
       "  </tbody>\n",
       "</table>\n",
       "</div>"
      ],
      "text/plain": [
       "                       course  fees  discount\n",
       "0        Data Science Masters  7000      3500\n",
       "1               Java with DSA  7500      3000\n",
       "2  Full Stack Web Development  8000      2500"
      ]
     },
     "execution_count": 49,
     "metadata": {},
     "output_type": "execute_result"
    }
   ],
   "source": [
    "import pandas as pd\n",
    "# Create pandas Series\n",
    "courses = pd.Series([\"Data Science Masters\",\"Java with DSA\",\"Full Stack Web Development\"])\n",
    "fees = pd.Series([7000,7500,8000])\n",
    "discount  = pd.Series([3500,3000,2500])\n",
    "\n",
    "# concat() supports to combine multiple series.\n",
    "df7=pd.concat([courses,fees,discount],axis=1)\n",
    "df7.columns = ['course','fees','discount']\n",
    "df7"
   ]
  }
 ],
 "metadata": {
  "kernelspec": {
   "display_name": "Python 3 (ipykernel)",
   "language": "python",
   "name": "python3"
  },
  "language_info": {
   "codemirror_mode": {
    "name": "ipython",
    "version": 3
   },
   "file_extension": ".py",
   "mimetype": "text/x-python",
   "name": "python",
   "nbconvert_exporter": "python",
   "pygments_lexer": "ipython3",
   "version": "3.11.5"
  }
 },
 "nbformat": 4,
 "nbformat_minor": 5
}
