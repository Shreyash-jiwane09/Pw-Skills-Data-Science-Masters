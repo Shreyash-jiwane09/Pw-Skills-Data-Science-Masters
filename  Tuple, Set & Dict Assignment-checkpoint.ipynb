{
 "cells": [
  {
   "cell_type": "markdown",
   "id": "c7a4c4e1",
   "metadata": {},
   "source": [
    "**Q1. What are the characteristics of the tuples? Is tuple immutable?**"
   ]
  },
  {
   "cell_type": "markdown",
   "id": "fe11d3b4",
   "metadata": {},
   "source": [
    "**Characteristics of the tuples are given below:**\n",
    "* Tuples are a data type that belongs to the sequence data type category.\n",
    "* Tuples are defined in the same way as lists, but enclosed within parenthesis instead of square braces.\n",
    "* Elements of the tuple must have a defined order.\n",
    "* Tuples are similar to lists in Python, but they have the property of being immutable.\n",
    "\n",
    "Tuples does not support mutability.It means we cannot reassign the elements in foresaid tuples.\n",
    "Example: \n"
   ]
  },
  {
   "cell_type": "code",
   "execution_count": 3,
   "id": "66508f92",
   "metadata": {},
   "outputs": [
    {
     "name": "stdout",
     "output_type": "stream",
     "text": [
      "('shreyash', 1, 3, 4, 5, (5+4j))\n"
     ]
    },
    {
     "ename": "TypeError",
     "evalue": "'tuple' object does not support item assignment",
     "output_type": "error",
     "traceback": [
      "\u001b[1;31m---------------------------------------------------------------------------\u001b[0m",
      "\u001b[1;31mTypeError\u001b[0m                                 Traceback (most recent call last)",
      "Cell \u001b[1;32mIn[3], line 3\u001b[0m\n\u001b[0;32m      1\u001b[0m t1\u001b[38;5;241m=\u001b[39m(\u001b[38;5;124m'\u001b[39m\u001b[38;5;124mshreyash\u001b[39m\u001b[38;5;124m'\u001b[39m,\u001b[38;5;241m1\u001b[39m,\u001b[38;5;241m3\u001b[39m,\u001b[38;5;241m4\u001b[39m,\u001b[38;5;241m5\u001b[39m,(\u001b[38;5;241m4\u001b[39mj\u001b[38;5;241m+\u001b[39m\u001b[38;5;241m5\u001b[39m))\n\u001b[0;32m      2\u001b[0m \u001b[38;5;28mprint\u001b[39m(t1)\n\u001b[1;32m----> 3\u001b[0m t1[\u001b[38;5;241m0\u001b[39m]\u001b[38;5;241m=\u001b[39m\u001b[38;5;124m'\u001b[39m\u001b[38;5;124mjiwane\u001b[39m\u001b[38;5;124m'\u001b[39m\n",
      "\u001b[1;31mTypeError\u001b[0m: 'tuple' object does not support item assignment"
     ]
    }
   ],
   "source": [
    "t1=('shreyash',1,3,4,5,(4j+5))\n",
    "print(t1)\n",
    "t1[0]='jiwane'## reassinging the element in the given index"
   ]
  },
  {
   "cell_type": "markdown",
   "id": "67a3154b",
   "metadata": {},
   "source": [
    "**Q2. What are the two tuple methods in python? Give an example of each method. Give a reason why\n",
    "tuples have only two in-built methods as compared to Lists.**\n",
    "\n"
   ]
  },
  {
   "cell_type": "markdown",
   "id": "3057f525",
   "metadata": {},
   "source": [
    "In python,tuple supports only two method,they are : \n",
    "* count()\n",
    "* index()\n",
    "\n",
    "Tuples owes property of immutability that the reason it only has two methods."
   ]
  },
  {
   "cell_type": "code",
   "execution_count": 18,
   "id": "cec33e2e",
   "metadata": {},
   "outputs": [
    {
     "data": {
      "text/plain": [
       "2"
      ]
     },
     "execution_count": 18,
     "metadata": {},
     "output_type": "execute_result"
    }
   ],
   "source": [
    "#using count() method \n",
    "t1=('shreyash',1,3,4,5,(4j+5),5,7)\n",
    "t1.count(5)# Returns the number of times elements present in a given tuple"
   ]
  },
  {
   "cell_type": "code",
   "execution_count": 17,
   "id": "eaa9eb59",
   "metadata": {},
   "outputs": [
    {
     "data": {
      "text/plain": [
       "4"
      ]
     },
     "execution_count": 17,
     "metadata": {},
     "output_type": "execute_result"
    }
   ],
   "source": [
    "#using index() method \n",
    "t1=('shreyash',1,3,4,5,(4j+5),5,7)\n",
    "t1.index(5)# Returns the index of the given element present in a tuple"
   ]
  },
  {
   "cell_type": "markdown",
   "id": "c4b86c34",
   "metadata": {},
   "source": [
    "**Q3. Which collection datatypes in python do not allow duplicate items? Write a code using a set to remove\n",
    "duplicates from the given list.\n",
    "List = [1, 1, 1, 2, 1, 3, 1, 4, 2, 1, 2, 2, 2, 3, 2, 4, 3, 1, 3, 2, 3, 3, 3, 4, 4, 1, 4, 2, 4, 3, 4, 4]**"
   ]
  },
  {
   "cell_type": "markdown",
   "id": "88781c9d",
   "metadata": {},
   "source": [
    "In python,sets are the datatypes that returns unique values.It means it does not allow duplicate values."
   ]
  },
  {
   "cell_type": "code",
   "execution_count": 26,
   "id": "1d78e4d9",
   "metadata": {},
   "outputs": [
    {
     "name": "stdout",
     "output_type": "stream",
     "text": [
      "{1, 2, 3, 4}\n"
     ]
    }
   ],
   "source": [
    "List = [1, 1, 1, 2, 1, 3, 1, 4, 2, 1, 2, 2, 2, 3, 2, 4, 3, 1, 3, 2, 3, 3, 3, 4, 4, 1, 4, 2, 4, 3, 4, 4]\n",
    "print(set(List)) # Returns unique values \n",
    "\n"
   ]
  },
  {
   "cell_type": "markdown",
   "id": "b89f8c92",
   "metadata": {},
   "source": [
    "**Q4. Explain the difference between the union() and update() methods for a set. Give an example of\n",
    "each method.**"
   ]
  },
  {
   "cell_type": "markdown",
   "id": "840930b6",
   "metadata": {},
   "source": [
    "Sets supports union() & update() methods in python.\n",
    "\n",
    "*s.union(t)  s | t   new set with elements from both s and t*\n",
    "\n",
    "*s.update(t) s |= t  return set s with elements added from t*"
   ]
  },
  {
   "cell_type": "code",
   "execution_count": 32,
   "id": "1cc67930",
   "metadata": {},
   "outputs": [
    {
     "name": "stdout",
     "output_type": "stream",
     "text": [
      "Union: {1, 2, 3, 35, 5, 6, 7, 4, 8}\n"
     ]
    }
   ],
   "source": [
    "s={1,3,5,6,7}\n",
    "t={2,35,4,5,8}\n",
    "\n",
    "#union \n",
    "print(\"Union:\",s|t)\n"
   ]
  },
  {
   "cell_type": "code",
   "execution_count": 33,
   "id": "d0e1bed8",
   "metadata": {},
   "outputs": [
    {
     "name": "stdout",
     "output_type": "stream",
     "text": [
      "{1, 2, 3, 5, 6, 7}\n",
      "{1, 2, 3, 5, 6, 7, 10, 11, 12}\n"
     ]
    }
   ],
   "source": [
    "#Example defining update() method\n",
    "list1 = [1, 2, 3]\n",
    "list2 = [5, 6, 7]\n",
    "list3 = [10, 11, 12]\n",
    "set1 = set(list2)\n",
    "set2 = set(list1)\n",
    "set1.update(set2)\n",
    "print(set1)\n",
    "set1.update(list3)\n",
    "print(set1)"
   ]
  },
  {
   "cell_type": "markdown",
   "id": "2add56d0",
   "metadata": {},
   "source": [
    "**Q5. What is a dictionary? Give an example. Also, state whether a dictionary is ordered or unordered.**"
   ]
  },
  {
   "cell_type": "markdown",
   "id": "b01f6ea8",
   "metadata": {},
   "source": [
    "Dictionaries in Python is a data structure, used to store values in key:value format. This makes it different from lists, tuples, and arrays as in a dictionary each key has an associated value.\n",
    "For example :\n",
    "user ={'name':'shreyash','city':'chandrapur'}\n",
    "As of Python version 3.7, dictionaries are ordered.\n",
    "If in a dictionary,key-values pairs duplicates then Python returns the ordered values.\n",
    "\n"
   ]
  },
  {
   "cell_type": "markdown",
   "id": "ad256405",
   "metadata": {},
   "source": [
    "**Q6. Can we create a nested dictionary? If so, please give an example by creating a simple one-level\n",
    "nested dictionary.**"
   ]
  },
  {
   "cell_type": "markdown",
   "id": "77003f7d",
   "metadata": {},
   "source": [
    "In Python,we can create a nested dictionary.Dictonary holds a key-value pair.Key-value pair can be tuples,list,set,another dictioanary and this is called nested dictionary.\n",
    "Nesting is a powerful feature,as the following examples will demonstrate.\n",
    "* A list of Dictionaries\n",
    "* A list in a Dictionary\n",
    "* A Dictionary in a Dictionary\n",
    "\n"
   ]
  },
  {
   "cell_type": "code",
   "execution_count": 1,
   "id": "20a032fc",
   "metadata": {},
   "outputs": [
    {
     "name": "stdout",
     "output_type": "stream",
     "text": [
      "[{'color': 'green', 'points': 5}, {'color': 'yellow', 'points': 10}, {'color': 'red', 'points': 15}]\n"
     ]
    }
   ],
   "source": [
    "##A list of Dictionaries\n",
    "\n",
    "alien_0={'color':'green','points':5}\n",
    "alien_1={'color':'yellow','points':10}\n",
    "alien_2={'color':'red','points':15}\n",
    "alien=[alien_0,alien_1,alien_2]\n",
    "print(alien)"
   ]
  },
  {
   "cell_type": "code",
   "execution_count": 4,
   "id": "c1bf2659",
   "metadata": {},
   "outputs": [
    {
     "name": "stdout",
     "output_type": "stream",
     "text": [
      "You ordered a thick-crust pizza with the follwing toppings: \n",
      "MUSHROOM\n",
      "EXTRA CHEESE\n"
     ]
    }
   ],
   "source": [
    "##A list in a Dictionary\n",
    "pizza={\n",
    "    'crust':'thick',\n",
    "    'toppings':['mushroom','extra cheese']\n",
    "}\n",
    "print(f\"You ordered a {pizza['crust']}-crust pizza with the follwing toppings: \")\n",
    "for i in pizza['toppings']:\n",
    "    print(i.upper())"
   ]
  },
  {
   "cell_type": "code",
   "execution_count": 7,
   "id": "001c65d6",
   "metadata": {},
   "outputs": [
    {
     "name": "stdout",
     "output_type": "stream",
     "text": [
      "('aeinstein', {'first': 'albert', 'last': 'einstein', 'location': 'nagpur'})\n"
     ]
    }
   ],
   "source": [
    "##A Dictionary in a Dictionary\n",
    "users={\n",
    "    'aeinstein':{\n",
    "        'first':'albert',\n",
    "        'last':'einstein',\n",
    "        'location':'nagpur'\n",
    "    }\n",
    "}\n",
    "for i in users.items():\n",
    "    print(i)"
   ]
  },
  {
   "cell_type": "markdown",
   "id": "346b2614",
   "metadata": {},
   "source": [
    "**Q7. Using setdefault() method, create key named topics in the given dictionary and also add the value of\n",
    "the key as this list ['Python', 'Machine Learning’, 'Deep Learning']\n",
    "dict1 = {'language' : 'Python', 'course': 'Data Science Masters'}**"
   ]
  },
  {
   "cell_type": "code",
   "execution_count": 17,
   "id": "ea36b60a",
   "metadata": {},
   "outputs": [
    {
     "name": "stdout",
     "output_type": "stream",
     "text": [
      "{'language': 'Python', 'course': 'Data Science Masters', 'topics': ['Python', 'Machine Learning', 'Deep Learning']}\n"
     ]
    }
   ],
   "source": [
    "dict1 = {'language' : 'Python', 'course': 'Data Science Masters'}\n",
    "dict1.setdefault('topics',['Python','Machine Learning','Deep Learning'])\n",
    "print(dict1)\n",
    "                 \n",
    "                 \n",
    "                 \n",
    "                 "
   ]
  },
  {
   "cell_type": "markdown",
   "id": "aab7082a",
   "metadata": {},
   "source": [
    "**Q8. What are the three view objects in dictionaries? Use the three in-built methods in python to display\n",
    "these three view objects for the given dictionary.\n",
    "dict1 = {'Sport': 'Cricket' , 'Teams': ['India', 'Australia', 'England', 'South Africa', 'Sri Lanka', 'New Zealand']}**"
   ]
  },
  {
   "cell_type": "markdown",
   "id": "a6cf5e2b",
   "metadata": {},
   "source": [
    "The objects returned by dict.keys(), dict.values() and dict.items() are view objects. They provide a dynamic view on the dictionary’s entries, which means that when the dictionary changes, the view reflects these changes."
   ]
  },
  {
   "cell_type": "code",
   "execution_count": 38,
   "id": "91286570",
   "metadata": {},
   "outputs": [
    {
     "name": "stdout",
     "output_type": "stream",
     "text": [
      "Keys:\n",
      "\t Sport\n",
      "\t Teams\n"
     ]
    }
   ],
   "source": [
    "#keys() method\n",
    "dict1 = {'Sport': 'Cricket' , 'Teams': ['India', 'Australia', 'England', 'South Africa', 'Sri Lanka', 'New Zealand']}\n",
    "print(\"Keys:\")\n",
    "for i in dict1.keys():\n",
    "    print(\"\\t\",i)\n"
   ]
  },
  {
   "cell_type": "code",
   "execution_count": 39,
   "id": "b54f7ce8",
   "metadata": {},
   "outputs": [
    {
     "name": "stdout",
     "output_type": "stream",
     "text": [
      "Values: \n",
      "\t Cricket\n",
      "\t ['India', 'Australia', 'England', 'South Africa', 'Sri Lanka', 'New Zealand']\n"
     ]
    }
   ],
   "source": [
    "#value() method\n",
    "dict1 = {'Sport': 'Cricket' , 'Teams': ['India', 'Australia', 'England', 'South Africa', 'Sri Lanka', 'New Zealand']}\n",
    "print(\"Values: \")\n",
    "for i in dict1.values():\n",
    "    print(\"\\t\",i)\n"
   ]
  },
  {
   "cell_type": "code",
   "execution_count": 40,
   "id": "2423ece7",
   "metadata": {},
   "outputs": [
    {
     "name": "stdout",
     "output_type": "stream",
     "text": [
      "Items: \n",
      "\t ('Sport', 'Cricket')\n",
      "\t ('Teams', ['India', 'Australia', 'England', 'South Africa', 'Sri Lanka', 'New Zealand'])\n"
     ]
    }
   ],
   "source": [
    "#items() method \n",
    "dict1 = {'Sport': 'Cricket' , 'Teams': ['India', 'Australia', 'England', 'South Africa', 'Sri Lanka', 'New Zealand']}\n",
    "print(\"Items: \")\n",
    "for i in dict1.items():\n",
    "    print(\"\\t\",i)"
   ]
  },
  {
   "cell_type": "code",
   "execution_count": null,
   "id": "355d21c6",
   "metadata": {},
   "outputs": [],
   "source": []
  }
 ],
 "metadata": {
  "kernelspec": {
   "display_name": "Python 3 (ipykernel)",
   "language": "python",
   "name": "python3"
  },
  "language_info": {
   "codemirror_mode": {
    "name": "ipython",
    "version": 3
   },
   "file_extension": ".py",
   "mimetype": "text/x-python",
   "name": "python",
   "nbconvert_exporter": "python",
   "pygments_lexer": "ipython3",
   "version": "3.11.5"
  }
 },
 "nbformat": 4,
 "nbformat_minor": 5
}
