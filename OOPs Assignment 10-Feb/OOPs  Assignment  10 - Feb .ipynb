{
 "cells": [
  {
   "cell_type": "markdown",
   "id": "42c05953",
   "metadata": {},
   "source": [
    "**Q1. Which function is used to open a file? What are the different modes of opening a file? Explain each mode\n",
    "of file opening.**"
   ]
  },
  {
   "cell_type": "markdown",
   "id": "edb13b81",
   "metadata": {},
   "source": [
    "Files in a Python can be opened with in-built function called **open()** \n",
    "\n",
    "Syntax : open(file_address, access_mode)\n",
    "\n",
    "1. In ‘r’ mode, the file opens in the read only mode. By default, if we don’t specify the mode argument, it will be treated as read or ‘r’ mode."
   ]
  },
  {
   "cell_type": "code",
   "execution_count": 4,
   "id": "72bdc00a",
   "metadata": {},
   "outputs": [
    {
     "name": "stdout",
     "output_type": "stream",
     "text": [
      "just trying to pratice\n",
      "Thanking you\n"
     ]
    }
   ],
   "source": [
    "## \"r\" mode example \n",
    "\n",
    "f =open(\"test1.txt\",\"r\")\n",
    "\n",
    "#read()\n",
    "\n",
    "data = f.read()\n",
    "f.close()\n",
    "print(data)"
   ]
  },
  {
   "cell_type": "markdown",
   "id": "d9430969",
   "metadata": {},
   "source": [
    "2. In the ‘w’ mode, the file opens in write mode. It removes existing content, if present, in the file. If the specified file doesn’t exist, it creates one with the specified name."
   ]
  },
  {
   "cell_type": "code",
   "execution_count": 11,
   "id": "c08cac7b",
   "metadata": {},
   "outputs": [],
   "source": [
    "f=open(\"test1.txt\",\"w\")\n",
    "f.write(\"This is a modified text\\n\")\n",
    "\n",
    "f.close()"
   ]
  },
  {
   "cell_type": "markdown",
   "id": "752bd6ad",
   "metadata": {},
   "source": [
    "3. In the ‘a’ mode, the file opens in append mode. It adds content to an existing file (or append at the end of the file). If the specified file doesn’t exist, it creates one with the specified name."
   ]
  },
  {
   "cell_type": "code",
   "execution_count": 12,
   "id": "8677376d",
   "metadata": {},
   "outputs": [],
   "source": [
    "f=open(\"test1.txt\",\"a\")\n",
    "f.write(\"This is appending to next line\\n\")\n",
    "\n",
    "f.close()"
   ]
  },
  {
   "cell_type": "markdown",
   "id": "ed604563",
   "metadata": {},
   "source": [
    "4. In the ‘r+’ mode, the file opens in the read & write mode. It does not remove existing content, if present, in the file and does not create a file if not present in the directory."
   ]
  },
  {
   "cell_type": "code",
   "execution_count": 16,
   "id": "2006adf3",
   "metadata": {},
   "outputs": [
    {
     "name": "stdout",
     "output_type": "stream",
     "text": [
      "This is a modified text\n",
      "This is appending to next line\n",
      "Hello world\n"
     ]
    }
   ],
   "source": [
    "f= open(\"test1.txt\",\"r+\")\n",
    "f1=f.read()\n",
    "line=\"Hello world\"\n",
    "f.write(line)\n",
    "f.close()\n",
    "print(f1)\n",
    "\n"
   ]
  },
  {
   "cell_type": "markdown",
   "id": "1592adbb",
   "metadata": {},
   "source": [
    "5. In the ‘w+’ mode, open the file in the read & write mode & remove existing content. If the file doesn’t exist, it creates a new one. It does not remove existing content & if a file doesn’t exist, it creates a new one"
   ]
  },
  {
   "cell_type": "code",
   "execution_count": 25,
   "id": "a37e7cb0",
   "metadata": {},
   "outputs": [],
   "source": [
    "f=open(\"test1.txt\",\"w+\")\n",
    "\n",
    "f.write(\"This is a append mode\")\n",
    "f2=f.read()\n",
    "\n",
    "f.close()\n",
    "\n"
   ]
  },
  {
   "cell_type": "markdown",
   "id": "f7e301e0",
   "metadata": {},
   "source": [
    "**Q2. Why close() function is used? Why is it important to close a file?**"
   ]
  },
  {
   "cell_type": "markdown",
   "id": "7f347e98",
   "metadata": {},
   "source": [
    "It is always a good practice to close a file after performing desired operations to it. Thus makes sure that all our changes have been saved to the file."
   ]
  },
  {
   "cell_type": "code",
   "execution_count": 28,
   "id": "02b8cb35",
   "metadata": {},
   "outputs": [
    {
     "name": "stdout",
     "output_type": "stream",
     "text": [
      "This is a append mode\n"
     ]
    }
   ],
   "source": [
    "##opening a file \n",
    "f = open(\"test1.txt\",\"r\")\n",
    "\n",
    "## Reading a file \n",
    "f1=f.read()\n",
    "print(f1)\n",
    "\n",
    "\n",
    "#closing a file \n",
    "f.close()"
   ]
  },
  {
   "cell_type": "markdown",
   "id": "7138db44",
   "metadata": {},
   "source": [
    "**Q3. Write a python program to create a text file. Write ‘I want to become a Data Scientist’ in that file. Then\n",
    "close the file. Open this file and read the content of the file.**"
   ]
  },
  {
   "cell_type": "code",
   "execution_count": 29,
   "id": "56494a9e",
   "metadata": {},
   "outputs": [],
   "source": [
    "#opening a file \n",
    "new_file = open(\"new_file.txt\",\"w\")\n",
    "\n",
    "# writing a file \n",
    "new_file.write(\"I want to become a Data Scientist\")\n",
    "\n",
    "#closing a file \n",
    "new_file.close()\n",
    "\n"
   ]
  },
  {
   "cell_type": "code",
   "execution_count": 31,
   "id": "44d50552",
   "metadata": {},
   "outputs": [
    {
     "name": "stdout",
     "output_type": "stream",
     "text": [
      "I want to become a Data Scientist\n"
     ]
    }
   ],
   "source": [
    "## Reading a file \n",
    "\n",
    "new_file= open(\"new_file.txt\",\"r\")\n",
    "line = new_file.read()\n",
    "print(line)\n",
    "\n",
    "new_file.close()"
   ]
  },
  {
   "cell_type": "markdown",
   "id": "0ff3102e",
   "metadata": {},
   "source": [
    "**Q4. Explain the following with python code: read(), readline() and readlines().**"
   ]
  },
  {
   "cell_type": "markdown",
   "id": "ea625ea9",
   "metadata": {},
   "source": [
    "1. The read() method returns the specified number of bytes from the file. Default is -1 which means the whole file."
   ]
  },
  {
   "cell_type": "code",
   "execution_count": 38,
   "id": "f68dd26c",
   "metadata": {},
   "outputs": [
    {
     "name": "stdout",
     "output_type": "stream",
     "text": [
      "I want to become a Data Scientist\n"
     ]
    }
   ],
   "source": [
    "# read() method \n",
    "\n",
    "new_file= open(\"new_file.txt\", \"r\")\n",
    "\n",
    "print(new_file.read())\n",
    "\n",
    "new_file.close()"
   ]
  },
  {
   "cell_type": "code",
   "execution_count": 42,
   "id": "63ce07b3",
   "metadata": {},
   "outputs": [
    {
     "name": "stdout",
     "output_type": "stream",
     "text": [
      "I wan\n"
     ]
    }
   ],
   "source": [
    "new_file= open(\"new_file.txt\", \"r\")\n",
    "\n",
    "a = new_file.read(5)\n",
    "print(a)\n",
    "\n",
    "new_file.close()"
   ]
  },
  {
   "cell_type": "markdown",
   "id": "2f1dbbfe",
   "metadata": {},
   "source": [
    "2. The readline() method returns one line from the file. You can also specified how many bytes from the line to return, by using the size parameter."
   ]
  },
  {
   "cell_type": "code",
   "execution_count": 56,
   "id": "d01f9693",
   "metadata": {},
   "outputs": [
    {
     "name": "stdout",
     "output_type": "stream",
     "text": [
      "I wan\n"
     ]
    }
   ],
   "source": [
    "new_file = open(\"new_file.txt\",\"r\")\n",
    "b=new_file.readline(5)\n",
    "print(b)\n",
    "new_file.close()"
   ]
  },
  {
   "cell_type": "markdown",
   "id": "8c3526a1",
   "metadata": {},
   "source": [
    "3. The readlines() method returns a list containing each line in the file as a list item."
   ]
  },
  {
   "cell_type": "code",
   "execution_count": 57,
   "id": "03474f93",
   "metadata": {},
   "outputs": [
    {
     "name": "stdout",
     "output_type": "stream",
     "text": [
      "['I want to become a Data Scientist']\n"
     ]
    }
   ],
   "source": [
    "new_file =open(\"new_file.txt\",\"r\")\n",
    "d = new_file.readlines()\n",
    "print(d)\n",
    "new_file.close()"
   ]
  },
  {
   "cell_type": "markdown",
   "id": "ab9adca2",
   "metadata": {},
   "source": [
    "**Q5. Explain why with statement is used with open(). What is the advantage of using with statement and\n",
    "open() together?**\n",
    "\n",
    "\n",
    "In Python, with statement is used in exception handling to make the code cleaner and much more readable. It simplifies the management of common resources like file streams.\n",
    "\n",
    "\n",
    "Advantage is : unlike the previous implementations, there is no need to call file.close()\n",
    "It is guaranteed to close the file no matter how the nested block exits. If an exception occurs before the end of the block, it will close the file before the exception is caught by an outer exception handler."
   ]
  },
  {
   "cell_type": "code",
   "execution_count": 58,
   "id": "a37e1856",
   "metadata": {},
   "outputs": [],
   "source": [
    "## with statememt \n",
    "\n",
    "with open(\"with_file.txt\",\"w\") as file:\n",
    "    file.write(\"This is file created using with statement\")\n",
    "    \n",
    "    \n"
   ]
  },
  {
   "cell_type": "code",
   "execution_count": 59,
   "id": "b5e1fe5d",
   "metadata": {},
   "outputs": [
    {
     "name": "stdout",
     "output_type": "stream",
     "text": [
      "This is file created using with statement\n"
     ]
    }
   ],
   "source": [
    "# with statement reading the file \n",
    "\n",
    "with open(\"with_file.txt\",\"r\") as file:\n",
    "    re_ad=file.read()\n",
    "    print(re_ad)\n",
    "            "
   ]
  },
  {
   "cell_type": "markdown",
   "id": "89a51457",
   "metadata": {},
   "source": [
    "**Q6. Explain the write() and writelines() functions. Give a suitable example.**\n",
    "\n",
    "\n",
    "1 . The write() function will write the content in the file without adding any extra characters.\n",
    "While writing data to a file, we must know that the write function does not add a newline character(\\n) to the end of the string.\n",
    "The write() function returns None."
   ]
  },
  {
   "cell_type": "code",
   "execution_count": 63,
   "id": "902ebc46",
   "metadata": {},
   "outputs": [],
   "source": [
    "student_file = open(\"students.txt\", \"w\")\n",
    "\n",
    "student_name = ['Shreyash','Pravin','Dhiraj']\n",
    "\n",
    "for i in student_name:\n",
    "    student_file.write(f'Name of student : {i}')\n",
    "    student_file.write(\"\\n\")\n",
    "\n",
    "student_file.close()"
   ]
  },
  {
   "cell_type": "code",
   "execution_count": 64,
   "id": "b5db2ac9",
   "metadata": {},
   "outputs": [
    {
     "name": "stdout",
     "output_type": "stream",
     "text": [
      "Name of student : Shreyash\n",
      "Name of student : Pravin\n",
      "Name of student : Dhiraj\n",
      "\n"
     ]
    }
   ],
   "source": [
    "with open('students.txt','r') as file:\n",
    "    print(file.read())\n"
   ]
  },
  {
   "cell_type": "markdown",
   "id": "f0d2b2c7",
   "metadata": {},
   "source": [
    "2. writelines(): This function writes the content of a list to a file.\n",
    "the list of strings that is passed to the writelines() function is written into the opened file.\n",
    "Similar to the write() function, the writelines() function does not add a newline character(\\n) to the end of the string"
   ]
  },
  {
   "cell_type": "code",
   "execution_count": 65,
   "id": "63bd7e2a",
   "metadata": {},
   "outputs": [],
   "source": [
    "student_name2 = ['Suraj','Ramesh','Suresh']\n",
    "# Adding \\n character to each element in list \n",
    "lst = []\n",
    "for i in student_name2:\n",
    "    lst.append(i+'\\n')\n",
    "# Writing with writelines\n",
    "with open('student2.txt','w') as file2:\n",
    "    file2.writelines(lst)"
   ]
  },
  {
   "cell_type": "code",
   "execution_count": 66,
   "id": "f19b3259",
   "metadata": {},
   "outputs": [
    {
     "name": "stdout",
     "output_type": "stream",
     "text": [
      "Suraj\n",
      "Ramesh\n",
      "Suresh\n",
      "\n"
     ]
    }
   ],
   "source": [
    "with open('student2.txt','r') as file2:\n",
    "    print(file2.read())"
   ]
  },
  {
   "cell_type": "code",
   "execution_count": null,
   "id": "16baf3c8",
   "metadata": {},
   "outputs": [],
   "source": []
  }
 ],
 "metadata": {
  "kernelspec": {
   "display_name": "Python 3 (ipykernel)",
   "language": "python",
   "name": "python3"
  },
  "language_info": {
   "codemirror_mode": {
    "name": "ipython",
    "version": 3
   },
   "file_extension": ".py",
   "mimetype": "text/x-python",
   "name": "python",
   "nbconvert_exporter": "python",
   "pygments_lexer": "ipython3",
   "version": "3.11.5"
  }
 },
 "nbformat": 4,
 "nbformat_minor": 5
}
