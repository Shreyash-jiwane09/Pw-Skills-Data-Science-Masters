{
 "cells": [
  {
   "cell_type": "markdown",
   "id": "f9e9d20a",
   "metadata": {},
   "source": [
    "## Q.1) What is multithreading in python? Why is it used? Name the module used to handle threads in python"
   ]
  },
  {
   "attachments": {
    "image.png": {
     "image/png": "[encoded data removed]"
    }
   },
   "cell_type": "markdown",
   "id": "30a34537",
   "metadata": {},
   "source": [
    "Multithreading is defined as the ability of a processor to execute multiple threads concurrently. In a simple, single-core CPU, it is achieved using frequent switching between threads. This is termed context switching. In context switching, the state of a thread is saved and the state of another thread is loaded whenever any interrupt (due to I/O or manually set) takes place. Context switching takes place so frequently that all the threads appear to be running parallelly (this is termed multitasking).\n",
    "\n",
    "![image.png](attachment:image.png)\n",
    "\n",
    "In Python, the threading module provides a very simple and intuitive API for spawning multiple threads in a program.\n",
    "\n",
    "**Import Module**\n",
    "\n",
    "First, import the threading module.\n",
    "\n",
    "`import threading`"
   ]
  },
  {
   "cell_type": "markdown",
   "id": "a3cae4cd",
   "metadata": {},
   "source": [
    "## Q2)Why threading module used? Write the use of the following functions:\n",
    "#### 1. activeCount()\n",
    "#### 2. currentThread()\n",
    "##### 3. enumerate()"
   ]
  },
  {
   "cell_type": "markdown",
   "id": "3adc2435",
   "metadata": {},
   "source": [
    "Python threading allows you to have different parts of your program run concurrently and can simplify your design.  \n",
    "\n",
    "\n",
    "**>** threading.activeCount() − Returns the number of thread objects that are active.\n",
    "\n",
    "**>** threading.currentThread() − Returns the number of thread objects in the caller's thread control.\n",
    "\n",
    "**>** threading.enumerate() − Returns a list of all thread objects that are currently active."
   ]
  },
  {
   "cell_type": "markdown",
   "id": "730ad81c",
   "metadata": {},
   "source": [
    "## Q3. Explain the following functions\n",
    "1. run()\n",
    "2. start()\n",
    "3. join()\n",
    "4. isAlive()"
   ]
  },
  {
   "cell_type": "markdown",
   "id": "f5637d96",
   "metadata": {},
   "source": [
    "**>** threading.run(): \n",
    "Executes any target function belonging to a given thread object that is now active.\n",
    "\n",
    "**>** threading.start() :\n",
    "Executes any target function belonging to a given thread object that is now active.\n",
    "\n",
    "**>** threading.join():\n",
    "Delays the flow of execution of a program until the target thread is completely read.\n",
    "\n",
    "**>** threading.isAlive():\n",
    "Returns True if the thread is still running and False, otherwise."
   ]
  },
  {
   "cell_type": "markdown",
   "id": "522c911d",
   "metadata": {},
   "source": [
    "## Q.4)Write a python program to create two threads. Thread one must print the list of squares and thread two must print the list of cubes"
   ]
  },
  {
   "cell_type": "code",
   "execution_count": 16,
   "id": "d66a2130",
   "metadata": {},
   "outputs": [],
   "source": [
    "import threading\n",
    "\n",
    "def print_cube(x):\n",
    "    print(f\"Cube of {x} : {x*x*x}\")\n",
    "\n",
    "def print_sqr(x):\n",
    "    print(f\"Square of {x}: {x*x}\")"
   ]
  },
  {
   "cell_type": "code",
   "execution_count": 20,
   "id": "fe4b3b19",
   "metadata": {},
   "outputs": [],
   "source": [
    "thread1 = [threading.Thread(target=print_cube,args=(i,)) for i in [2,3,4]]\n",
    "thread2 = [threading.Thread(target=print_sqr,args=(i,)) for i in [2,3,4]]"
   ]
  },
  {
   "cell_type": "code",
   "execution_count": 22,
   "id": "8785e2ca",
   "metadata": {},
   "outputs": [
    {
     "name": "stdout",
     "output_type": "stream",
     "text": [
      "Cube of 2 : 8\n",
      "Cube of 3 : 27\n",
      "Cube of 4 : 64\n"
     ]
    }
   ],
   "source": [
    "for t in thread1:\n",
    "    t.start()"
   ]
  },
  {
   "cell_type": "code",
   "execution_count": 23,
   "id": "1529e292",
   "metadata": {},
   "outputs": [
    {
     "name": "stdout",
     "output_type": "stream",
     "text": [
      "Square of 2: 4\n",
      "Square of 3: 9\n",
      "Square of 4: 16\n"
     ]
    }
   ],
   "source": [
    "for t in thread2:\n",
    "    t.start()"
   ]
  },
  {
   "cell_type": "markdown",
   "id": "2b9cfc1e",
   "metadata": {},
   "source": [
    "## Q5) State advantages and disadvantages of multithreading"
   ]
  },
  {
   "cell_type": "markdown",
   "id": "575c30af",
   "metadata": {},
   "source": [
    "### Advantages of Multithreading \n",
    "\n",
    "**1.Improved Performance**: Multithreading improves the performance of applications by running the task simultaneously.\n",
    "\n",
    "**2.Better Responsiveness**: Multithreading improves the responsiveness of your backend applications by running threads after a task is blocked. It helps in handling multiple user requests in a real-time application.\n",
    "\n",
    "**3.Scalability** : Multithreading improves the scalability of an application by letting developers add more processors. It is useful when handling a large, growing number of users on a server.\n",
    "\n",
    "**4.Real-time processing** : Multithreading ensures tasks or requests are executed with little delay and maintains a smooth performance during real-time data processing.\n",
    "\n",
    "### Disadvantages of Multithreading \n",
    "\n",
    "1. As number of threads increase, complexity increases.\n",
    "2. Synchronization of shared resources (objects, data) is necessary.\n",
    "3. It is difficult to debug, result is sometimes unpredictable.\n",
    "4. Potential deadlocks which leads to starvation, i.e. some threads may not be served with a bad design.\n",
    "5. Constructing and synchronizing threads is CPU/memory intensive."
   ]
  },
  {
   "cell_type": "markdown",
   "id": "6675c284",
   "metadata": {},
   "source": [
    "## Q6) Explain deadlocks and race conditions."
   ]
  },
  {
   "cell_type": "markdown",
   "id": "c248578d",
   "metadata": {},
   "source": [
    "**Deadlocks** :\n",
    "A deadlock may be described as a concurrency failure mode. It is a situation in a program where one or more threads wait for a condition that never occurs. As a result, the threads are unable to progress and the program is stuck or frozen and must be terminated manually.Deadlock situation may arise in many ways in your concurrent program. Deadlocks are never not developed intentionally, instead, they are in fact a side effect or bug in the code.\n",
    "\n",
    "**Common causes of thread deadlocks are listed below −**\n",
    "1. A thread that attempts to acquire the same mutex lock twice.\n",
    "2. Threads that wait on each other (e.g. A waits on B, B waits on A).\n",
    "3. When a thread that fails to release a resource such as lock, semaphore, condition, event, etc.\n",
    "4. Threads that acquire mutex locks in different orders (e.g. fail to perform lock ordering).\n"
   ]
  },
  {
   "cell_type": "markdown",
   "id": "3ed6c8f9",
   "metadata": {},
   "source": [
    "**Race conditions** :\n",
    "A race condition occurs when two or more threads can access shared data and they try to change it at the same time. As a result, the values of variables may be unpredictable and vary depending on the timings of context switches of the processes.A race condition occurs when two or more threads can access shared data and they try to change it at the same time. As a result, the values of variables may be unpredictable and vary depending on the timings of context switches of the processes.\n",
    "\n",
    "Consider the program below to understand the concept of race condition:"
   ]
  },
  {
   "cell_type": "code",
   "execution_count": 1,
   "id": "7d15ac83",
   "metadata": {},
   "outputs": [
    {
     "name": "stdout",
     "output_type": "stream",
     "text": [
      "Iteration 0: x = 200000\n",
      "Iteration 1: x = 200000\n",
      "Iteration 2: x = 200000\n",
      "Iteration 3: x = 200000\n",
      "Iteration 4: x = 200000\n",
      "Iteration 5: x = 200000\n",
      "Iteration 6: x = 200000\n",
      "Iteration 7: x = 200000\n",
      "Iteration 8: x = 200000\n",
      "Iteration 9: x = 200000\n"
     ]
    }
   ],
   "source": [
    "import threading \n",
    "\n",
    "# global variable x \n",
    "x = 0\n",
    "\n",
    "def increment(): \n",
    "\t\"\"\" \n",
    "\tfunction to increment global variable x \n",
    "\t\"\"\"\n",
    "\tglobal x \n",
    "\tx += 1\n",
    "\n",
    "def thread_task(): \n",
    "\t\"\"\" \n",
    "\ttask for thread \n",
    "\tcalls increment function 100000 times. \n",
    "\t\"\"\"\n",
    "\tfor _ in range(100000): \n",
    "\t\tincrement() \n",
    "\n",
    "def main_task(): \n",
    "\tglobal x \n",
    "\t# setting global variable x as 0 \n",
    "\tx = 0\n",
    "\n",
    "\t# creating threads \n",
    "\tt1 = threading.Thread(target=thread_task) \n",
    "\tt2 = threading.Thread(target=thread_task) \n",
    "\n",
    "\t# start threads \n",
    "\tt1.start() \n",
    "\tt2.start() \n",
    "\n",
    "\t# wait until threads finish their job \n",
    "\tt1.join() \n",
    "\tt2.join() \n",
    "\n",
    "if __name__ == \"__main__\": \n",
    "\tfor i in range(10): \n",
    "\t\tmain_task() \n",
    "\t\tprint(\"Iteration {0}: x = {1}\".format(i,x)) \n"
   ]
  },
  {
   "attachments": {
    "image.png": {
     "image/png": "[encoded data removed]"
    }
   },
   "cell_type": "markdown",
   "id": "2715b71c",
   "metadata": {},
   "source": [
    "![image.png](attachment:image.png)"
   ]
  },
  {
   "cell_type": "code",
   "execution_count": null,
   "id": "adf295f0",
   "metadata": {},
   "outputs": [],
   "source": []
  }
 ],
 "metadata": {
  "kernelspec": {
   "display_name": "Python 3 (ipykernel)",
   "language": "python",
   "name": "python3"
  },
  "language_info": {
   "codemirror_mode": {
    "name": "ipython",
    "version": 3
   },
   "file_extension": ".py",
   "mimetype": "text/x-python",
   "name": "python",
   "nbconvert_exporter": "python",
   "pygments_lexer": "ipython3",
   "version": "3.11.5"
  }
 },
 "nbformat": 4,
 "nbformat_minor": 5
}
