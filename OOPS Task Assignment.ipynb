{
 "cells": [
  {
   "cell_type": "markdown",
   "id": "b47f62fc",
   "metadata": {},
   "source": [
    "**Q1. Create a vehicle class with an init method having instance variables as name_of_vehicle, max_speed\n",
    "and average_of_vehicle.**"
   ]
  },
  {
   "cell_type": "code",
   "execution_count": 10,
   "id": "89fd48f0",
   "metadata": {},
   "outputs": [],
   "source": [
    "class vehicle:\n",
    "    def __init__(self,name_of_vehicle,max_speed,average_of_vehicle):\n",
    "        self.name_of_vehicle=name_of_vehicle\n",
    "        self.max_speed=max_speed\n",
    "        self.average_of_vehicle=average_of_vehicle\n",
    "        \n",
    "    def getInfo(self):\n",
    "        print(f\"My vehicle name is {self.name_of_vehicle}\")\n",
    "        print(f\"\\nIt has a maximum speed of {self.max_speed} km/hr\")\n",
    "        print(f\"\\nIt has a average mileage of {self.average_of_vehicle} kmpl\")\n",
    "    "
   ]
  },
  {
   "cell_type": "code",
   "execution_count": 11,
   "id": "2506e07c",
   "metadata": {},
   "outputs": [
    {
     "name": "stdout",
     "output_type": "stream",
     "text": [
      "My vehicle name is Audi A8\n",
      "\n",
      "It has a maximum speed of 250 km/hr\n",
      "\n",
      "It has a average mileage of 12.5 kmpl\n"
     ]
    }
   ],
   "source": [
    "c=vehicle('Audi A8',250,12.5)\n",
    "c.getInfo()"
   ]
  },
  {
   "cell_type": "markdown",
   "id": "df6eeece",
   "metadata": {},
   "source": [
    "**Q2. Create a child class car from the vehicle class created in Que 1, which will inherit the vehicle class.\n",
    "Create a method named seating_capacity which takes capacity as an argument and returns the name of\n",
    "the vehicle and its seating capacity.**"
   ]
  },
  {
   "cell_type": "code",
   "execution_count": 21,
   "id": "921df2dc",
   "metadata": {},
   "outputs": [],
   "source": [
    "class car(vehicle):\n",
    "    def seating_capacity(self,capacity):\n",
    "        self.capacity=capacity\n",
    "        return self.name_of_vehicle,self.capacity\n"
   ]
  },
  {
   "cell_type": "code",
   "execution_count": 28,
   "id": "42343877",
   "metadata": {},
   "outputs": [
    {
     "data": {
      "text/plain": [
       "('BMW z96', 5)"
      ]
     },
     "execution_count": 28,
     "metadata": {},
     "output_type": "execute_result"
    }
   ],
   "source": [
    "d=car('BMW z96',235,12)\n",
    "d.seating_capacity(5)"
   ]
  },
  {
   "cell_type": "markdown",
   "id": "19f2029c",
   "metadata": {},
   "source": [
    "**Q3. What is multiple inheritance? Write a python code to demonstrate multiple inheritance.**"
   ]
  },
  {
   "attachments": {
    "multipleinh.png": {
     "image/png": "[encoded data removed]"
    }
   },
   "cell_type": "markdown",
   "id": "a733c466",
   "metadata": {},
   "source": [
    "One of the core concepts in object-oriented programming (OOP) languages is inheritance. It is a mechanism that allows you to create a hierarchy of classes that share a set of properties and methods by deriving a class from another class. Inheritance is the capability of one class to derive or inherit the properties from another class.\n",
    "\n",
    "**Multiple Inheritance:** When a class is derived from more than one base class it is called multiple Inheritance. The derived class inherits all the features of the base case\n",
    "\n",
    "![multipleinh.png](attachment:multipleinh.png)\n",
    "\n"
   ]
  },
  {
   "cell_type": "code",
   "execution_count": 6,
   "id": "1a11ae03",
   "metadata": {},
   "outputs": [
    {
     "name": "stdout",
     "output_type": "stream",
     "text": [
      "Base1\n",
      "Base2\n",
      "Derived\n",
      "SHREYASH JIWANE\n"
     ]
    }
   ],
   "source": [
    "#Program to demonstrate \n",
    "#multiple Inheritance \n",
    "\n",
    "class Base1:\n",
    "    def __init__(self):\n",
    "        self.str1=\"shreyash\"\n",
    "        print(\"Base1\")\n",
    "\n",
    "class Base2:\n",
    "    def __init__(self):\n",
    "        self.str2=\"jiwane\"\n",
    "        print(\"Base2\")\n",
    "        \n",
    "class Derived(Base1,Base2):\n",
    "    def __init__(self):\n",
    "        \n",
    "        # Calling constructors of Base1\n",
    "        # and Base2 classes\n",
    "        Base1.__init__(self)\n",
    "        Base2.__init__(self)\n",
    "        \n",
    "        print(\"Derived\")\n",
    "        \n",
    "    def getResult(self):\n",
    "        print(self.str1.upper(),self.str2.upper())\n",
    "\n",
    "obj=Derived()\n",
    "obj.getResult()    "
   ]
  },
  {
   "cell_type": "markdown",
   "id": "066c8588",
   "metadata": {},
   "source": [
    "**Q4. What are getter and setter in python? Create a class and create a getter and a setter method in this\n",
    "class.**"
   ]
  },
  {
   "cell_type": "markdown",
   "id": "b00b7717",
   "metadata": {},
   "source": [
    "In Python, getters and setters are not the same as those in other object-oriented programming languages. Basically, the main purpose of using getters and setters in object-oriented programs is to ensure data encapsulation.\n",
    "\n",
    "1. **Getters** : These are the methods used in Object-Oriented Programming (OOPS) which helps to access the private attributes from a class.\n",
    "2. **Setters** : These are the methods used in OOPS feature which helps to set the value to private attributes in a class."
   ]
  },
  {
   "cell_type": "code",
   "execution_count": 25,
   "id": "e173875a",
   "metadata": {},
   "outputs": [],
   "source": [
    "#create a class student with getter and setter function with student_id variable \n",
    "\n",
    "class student():\n",
    "    def __init__(self,name,id):\n",
    "        self.__name=name\n",
    "        self.__id=id\n",
    "    def get_student_id(self):\n",
    "        return self.__id\n",
    "    def set_student_id(self,new_id):\n",
    "        self.__id=new_id\n",
    "        "
   ]
  },
  {
   "cell_type": "code",
   "execution_count": 26,
   "id": "adacc1c9",
   "metadata": {},
   "outputs": [
    {
     "data": {
      "text/plain": [
       "101"
      ]
     },
     "execution_count": 26,
     "metadata": {},
     "output_type": "execute_result"
    }
   ],
   "source": [
    "#example with getter function \n",
    "student1=student(\"shreyash\",101)\n",
    "student1.get_student_id()"
   ]
  },
  {
   "cell_type": "code",
   "execution_count": 34,
   "id": "fc0c403a",
   "metadata": {},
   "outputs": [
    {
     "data": {
      "text/plain": [
       "100"
      ]
     },
     "execution_count": 34,
     "metadata": {},
     "output_type": "execute_result"
    }
   ],
   "source": [
    "#example with set function \n",
    "student1.set_student_id(100)\n",
    "student1.get_student_id()"
   ]
  },
  {
   "cell_type": "markdown",
   "id": "3bfac9b2",
   "metadata": {},
   "source": [
    "**Q5.What is method overriding in python? Write a python code to demonstrate method overriding.**"
   ]
  },
  {
   "attachments": {
    "overriding-in-python.png": {
     "image/png": "[encoded data removed]"
    }
   },
   "cell_type": "markdown",
   "id": "54f9444f",
   "metadata": {},
   "source": [
    "Method overriding is an ability of any object-oriented programming language that allows a subclass or child class to provide a specific implementation of a method that is already provided by one of its super-classes or parent classes. When a method in a subclass has the same name, same parameters or signature and same return type(or sub-type) as a method in its super-class, then the method in the subclass is said to override the method in the super-class.\n",
    "\n",
    "![overriding-in-python.png](attachment:overriding-in-python.png)"
   ]
  },
  {
   "cell_type": "code",
   "execution_count": 41,
   "id": "f78fee9f",
   "metadata": {},
   "outputs": [],
   "source": [
    "#Program # Python program to demonstrate  \n",
    "# method overriding \n",
    "\n",
    "class parent:\n",
    "    def __init__(self):\n",
    "        self.value=\"Inside parent\"\n",
    "        \n",
    "    def show(self):\n",
    "        print(self.value)\n",
    "class child(parent):\n",
    "    def __init__(self):\n",
    "        self.value=\"Inside child\"\n",
    "    def show(self):\n",
    "        print(self.value)\n",
    "  "
   ]
  },
  {
   "cell_type": "code",
   "execution_count": 42,
   "id": "a038c596",
   "metadata": {},
   "outputs": [
    {
     "name": "stdout",
     "output_type": "stream",
     "text": [
      "Inside parent\n",
      "Inside child\n"
     ]
    }
   ],
   "source": [
    "obj=parent()\n",
    "obj1=child()\n",
    "obj.show()\n",
    "obj1.show()"
   ]
  },
  {
   "cell_type": "code",
   "execution_count": null,
   "id": "e131f373",
   "metadata": {},
   "outputs": [],
   "source": []
  }
 ],
 "metadata": {
  "kernelspec": {
   "display_name": "Python 3 (ipykernel)",
   "language": "python",
   "name": "python3"
  },
  "language_info": {
   "codemirror_mode": {
    "name": "ipython",
    "version": 3
   },
   "file_extension": ".py",
   "mimetype": "text/x-python",
   "name": "python",
   "nbconvert_exporter": "python",
   "pygments_lexer": "ipython3",
   "version": "3.11.5"
  }
 },
 "nbformat": 4,
 "nbformat_minor": 5
}
