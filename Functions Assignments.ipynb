{
 "cells": [
  {
   "cell_type": "markdown",
   "id": "19430fb4",
   "metadata": {},
   "source": [
    "**Q1. Which keyword is used to create a function? Create a function to return a list of odd numbers in the range of 1 to 25.**"
   ]
  },
  {
   "cell_type": "markdown",
   "id": "23cdd480",
   "metadata": {},
   "source": [
    "* A function is a block of code which only runs when it is called.\n",
    "\n",
    "* You can pass data, known as parameters, into a function.\n",
    "\n",
    "* A function can return data as a result.\n",
    "\n",
    "In Python a function is defined using the **def** keyword.\n",
    "\n",
    "Example in the below cell:"
   ]
  },
  {
   "cell_type": "code",
   "execution_count": 1,
   "id": "faccfd50",
   "metadata": {
    "scrolled": false
   },
   "outputs": [
    {
     "name": "stdout",
     "output_type": "stream",
     "text": [
      "Its my first function\n"
     ]
    }
   ],
   "source": [
    "def my_function():\n",
    "    print(\"Its my first function\")\n",
    "my_function()"
   ]
  },
  {
   "cell_type": "code",
   "execution_count": 7,
   "id": "3c344be4",
   "metadata": {},
   "outputs": [],
   "source": [
    "## function to return a list of odd numbers in the range of 1 to 25.\n",
    "def odd_num(a):\n",
    "    l = []\n",
    "    for i in range(25):\n",
    "        if i%2!=0:\n",
    "            l.append(i)\n",
    "    return l\n",
    "    "
   ]
  },
  {
   "cell_type": "code",
   "execution_count": 8,
   "id": "7426b9c2",
   "metadata": {
    "scrolled": false
   },
   "outputs": [
    {
     "data": {
      "text/plain": [
       "[1, 3, 5, 7, 9, 11, 13, 15, 17, 19, 21, 23]"
      ]
     },
     "execution_count": 8,
     "metadata": {},
     "output_type": "execute_result"
    }
   ],
   "source": [
    "odd_num(range(25))"
   ]
  },
  {
   "cell_type": "markdown",
   "id": "314d6839",
   "metadata": {},
   "source": [
    "**Q2. Why * args and ** kwargs is used in some functions? Create a function each for * args and ** kwargs to demonstrate their use.**"
   ]
  },
  {
   "cell_type": "markdown",
   "id": "6e159722",
   "metadata": {},
   "source": [
    "The special syntax *args in function definitions in Python is used to pass a variable number of arguments to a function. It is used to pass a non-keyworded, variable-length argument list. \n",
    "\n",
    "* The syntax is to use the symbol * to take in a variable number of arguments; by convention, it is often used with the word args.\n",
    "* What *args allows you to do is take in more arguments than the number of formal arguments that you previously defined. With * args, any number of extra arguments can be tacked on to your current formal parameters (including zero extra arguments).\n",
    "* For example, we want to make a multiply function that takes any number of arguments and is able to multiply them all together. It can be done using *args.\n",
    "* Using the *, the variable that we associate with the * becomes iterable meaning you can do things like iterate over it, run some higher-order functions such as map and filter, etc."
   ]
  },
  {
   "cell_type": "code",
   "execution_count": 16,
   "id": "c2a4ac27",
   "metadata": {},
   "outputs": [],
   "source": [
    "##Python program to illustrate *args for a variable number of arguments\n",
    "\n",
    "def my_fucn(*args):\n",
    "    for i in args:\n",
    "        print(i)"
   ]
  },
  {
   "cell_type": "code",
   "execution_count": 17,
   "id": "a2c5dc87",
   "metadata": {},
   "outputs": [
    {
     "name": "stdout",
     "output_type": "stream",
     "text": [
      "shreyash\n",
      "1\n",
      "3\n",
      "4\n",
      "5\n",
      "6\n",
      "[45.5, 25, 666, 'pwskills']\n"
     ]
    }
   ],
   "source": [
    "my_fucn('shreyash',1,3,4,5,6,[45.5,25,666,'pwskills'])"
   ]
  },
  {
   "cell_type": "markdown",
   "id": "3bcb3509",
   "metadata": {},
   "source": [
    "**kwargs**:\n",
    "\n",
    "The special syntax **kwargs in function definitions in Python is used to pass a keyworded, variable-length argument list. We use the name kwargs with the double star. The reason is that the double star allows us to pass through keyword arguments (and any number of them).\n",
    "\n",
    "* A keyword argument is where you provide a name to the variable as you pass it into the function.\n",
    "* One can think of the kwargs as being a dictionary that maps each keyword to the value that we pass alongside it. That is why when we iterate over the kwargs there doesn’t seem to be any order in which they were printed out."
   ]
  },
  {
   "cell_type": "code",
   "execution_count": 34,
   "id": "9a19d121",
   "metadata": {},
   "outputs": [],
   "source": [
    "##Python program to illustrate **args for a variable number of arguments\n",
    "def my_fucntion(**kwargs):\n",
    "    return kwargs"
   ]
  },
  {
   "cell_type": "code",
   "execution_count": 35,
   "id": "a532525c",
   "metadata": {},
   "outputs": [
    {
     "data": {
      "text/plain": [
       "{'a': 1, 'b': 'pwskills', 'c': ['sudhanshu', 'krish']}"
      ]
     },
     "execution_count": 35,
     "metadata": {},
     "output_type": "execute_result"
    }
   ],
   "source": [
    "my_fucntion(a=1,b='pwskills',c=['sudhanshu','krish'])"
   ]
  },
  {
   "cell_type": "markdown",
   "id": "b3d3baef",
   "metadata": {},
   "source": [
    "**Q3.  What is an iterator in python? Name the method used to initialise the iterator object and the method used for iteration. Use these methods to print the first five elements of the given list [2, 4, 6, 8, 10, 12, 14, 16, 18, 20].**"
   ]
  },
  {
   "cell_type": "markdown",
   "id": "cd95cc75",
   "metadata": {},
   "source": [
    "An iterator in Python is an object that is used to iterate over iterable objects like lists, tuples, dicts, and sets. The Python iterators object is initialized using the iter() method. It uses the next() method for iteration.\n",
    "\n",
    "* .__iter__(): The iter() method is called for the initialization of an iterator. This returns an iterator object\n",
    "* __next__(): The next method returns the next value for the iterable. When we use a for loop to traverse any iterable object, internally it uses the iter() method to get an iterator object, which further uses the next() method to iterate over. This method raises a StopIteration to signal the end of the iteration."
   ]
  },
  {
   "cell_type": "code",
   "execution_count": 40,
   "id": "dfdb7f35",
   "metadata": {},
   "outputs": [
    {
     "name": "stdout",
     "output_type": "stream",
     "text": [
      "The first five elements in a list:\n",
      "2\n",
      "4\n",
      "6\n",
      "8\n",
      "10\n"
     ]
    }
   ],
   "source": [
    "l=[2, 4, 6, 8, 10, 12, 14, 16, 18, 20]\n",
    "print(\"The first five elements in a list:\")\n",
    "for i in l[:5]:\n",
    "    print(i)\n"
   ]
  },
  {
   "cell_type": "markdown",
   "id": "ac546d95",
   "metadata": {},
   "source": [
    "**Q4.  What is a generator function in python? Why yield keyword is used? Give an example of a generator function.**"
   ]
  },
  {
   "cell_type": "markdown",
   "id": "db685372",
   "metadata": {},
   "source": [
    "A Generator in Python is a function that returns an iterator using the Yield keyword. \n",
    "\n",
    "A generator function in Python is defined like a normal function, but whenever it needs to generate a value, it does so with the yield keyword rather than return. If the body of a def contains yield, the function automatically becomes a Python generator function. "
   ]
  },
  {
   "cell_type": "code",
   "execution_count": 58,
   "id": "636ba6cb",
   "metadata": {},
   "outputs": [
    {
     "name": "stdout",
     "output_type": "stream",
     "text": [
      "1\n",
      "2\n",
      "3\n"
     ]
    }
   ],
   "source": [
    "##example:\n",
    "\n",
    "def sim_gen_func():\n",
    "    yield 1\n",
    "    yield 2\n",
    "    yield 3\n",
    "for i in sim_gen_func():\n",
    "    print(i)"
   ]
  },
  {
   "cell_type": "markdown",
   "id": "f8bd5ec2",
   "metadata": {},
   "source": [
    "**Q5. Create a generator function for prime numbers less than 1000. Use the next() method to print the first 20 prime numbers.**"
   ]
  },
  {
   "cell_type": "code",
   "execution_count": 65,
   "id": "1fb07081",
   "metadata": {},
   "outputs": [
    {
     "name": "stdout",
     "output_type": "stream",
     "text": [
      "[2, 3, 5, 7, 11, 13, 17, 19, 23, 29, 31, 37, 41, 43, 47, 53, 59, 61, 67, 71]\n"
     ]
    }
   ],
   "source": [
    "def genprimes(limit):\n",
    "    \"\"\"\n",
    "    Generates prime numbers less than to the given limit.\n",
    "    \"\"\"\n",
    "    D = {}  # Dictionary to store multiples of primes\n",
    "    q = 2\n",
    "\n",
    "    while q <limit:\n",
    "        if q not in D:\n",
    "            yield q\n",
    "            D[q * q] = [q]\n",
    "        else:\n",
    "            for p in D[q]:\n",
    "                D.setdefault(p + q, []).append(p)\n",
    "            del D[q]\n",
    "        q += 1\n",
    "\n",
    "\n",
    "prime_generator = genprimes(1000)\n",
    "first_20_primes =[next(prime_generator) for _ in range(20)]\n",
    "print(first_20_primes)"
   ]
  }
 ],
 "metadata": {
  "kernelspec": {
   "display_name": "Python 3 (ipykernel)",
   "language": "python",
   "name": "python3"
  },
  "language_info": {
   "codemirror_mode": {
    "name": "ipython",
    "version": 3
   },
   "file_extension": ".py",
   "mimetype": "text/x-python",
   "name": "python",
   "nbconvert_exporter": "python",
   "pygments_lexer": "ipython3",
   "version": "3.11.5"
  }
 },
 "nbformat": 4,
 "nbformat_minor": 5
}
