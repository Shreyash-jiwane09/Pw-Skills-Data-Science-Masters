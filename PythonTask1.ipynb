{
 "cells": [
  {
   "cell_type": "markdown",
   "id": "5272b60d",
   "metadata": {},
   "source": [
    "**Q1. Create a function which will take a list as an argument and return the product of all the numbers after creating a flat list.**\n",
    "\n",
    "\n",
    "\n",
    "**Use the below-given list as an argument for your function.**\n",
    "\n",
    "**list1 = [1,2,3,4, [44,55,66, True], False, (34,56,78,89,34), {1,2,3,3,2,1}, {1:34, \"key2\": [55, 67, 78, 89], 4: (45,22, 61, 34)}, [56, 'data science'], 'Machine Learning']**\n",
    "\n",
    "**Note: you must extract numeric keys and values of the dictionary also.**"
   ]
  },
  {
   "cell_type": "code",
   "execution_count": 45,
   "id": "02f7a968",
   "metadata": {},
   "outputs": [],
   "source": [
    "from functools import reduce\n",
    "def flat_product(lst):\n",
    "    l1=[] \n",
    "    \n",
    "    for i in lst:\n",
    "        if type(i)==int or type(i)==float:\n",
    "            l1.append(i)\n",
    "        elif type(i)==list:\n",
    "            l1.extend(i)\n",
    "        elif type(i)==set or type(i)==tuple:\n",
    "            l1.extend(list(i))\n",
    "        elif type(i)==dict:\n",
    "            for k,v in i.items():\n",
    "                l1.append(k)\n",
    "                \n",
    "                if type(v)==int or type(v)==float:\n",
    "                    l1.append(v)\n",
    "                elif type(v)==list:\n",
    "                    l1.extend(v)\n",
    "                elif type(v)==tuple or type(v)==set:\n",
    "                    l1.extend(list(v))\n",
    "    print(\"Original List : \", lst)\n",
    "    print(\"**********************************\")\n",
    "    print('\\nFlat List before filtering numeric values inside nested structures : ',l1)\n",
    "    print(\"**********************************\")\n",
    "    \n",
    "    filter_1=list(filter(lambda x:type(x)==int or type(x)==float,l1))\n",
    "    print(\"\\nFiltered flattened list with only numeric values: \",filter_1)\n",
    "    print(\"*************************************************************\")\n",
    "    \n",
    "    product=reduce(lambda x,y:x*y,filter_1 )\n",
    "    print(\"\\nProduct of flattned list is : \",product)\n",
    "    \n",
    "    \n",
    "    \n",
    "    \n",
    "    \n",
    "                \n",
    "            \n",
    "            \n",
    "        "
   ]
  },
  {
   "cell_type": "code",
   "execution_count": 46,
   "id": "f9bd7dd3",
   "metadata": {},
   "outputs": [],
   "source": [
    "lst = [1,2,3,4, [44,55,66, True], False, (34,56,78,89,34), {1,2,3,3,2,1}, {1:34, \"key2\": [55, 67, 78, 89], 4: (45,22, 61, 34)}, [56, 'data science'], 'Machine Learning']"
   ]
  },
  {
   "cell_type": "code",
   "execution_count": 47,
   "id": "af552d51",
   "metadata": {},
   "outputs": [
    {
     "name": "stdout",
     "output_type": "stream",
     "text": [
      "Original List :  [1, 2, 3, 4, [44, 55, 66, True], False, (34, 56, 78, 89, 34), {1, 2, 3}, {1: 34, 'key2': [55, 67, 78, 89], 4: (45, 22, 61, 34)}, [56, 'data science'], 'Machine Learning']\n",
      "**********************************\n",
      "\n",
      "Flat List before filtering numeric values inside nested structures :  [1, 2, 3, 4, 44, 55, 66, True, 34, 56, 78, 89, 34, 1, 2, 3, 1, 34, 'key2', 55, 67, 78, 89, 4, 45, 22, 61, 34, 56, 'data science']\n",
      "**********************************\n",
      "\n",
      "Filtered flattened list with only numeric values:  [1, 2, 3, 4, 44, 55, 66, 34, 56, 78, 89, 34, 1, 2, 3, 1, 34, 55, 67, 78, 89, 4, 45, 22, 61, 34, 56]\n",
      "*************************************************************\n",
      "\n",
      "Product of flattned list is :  4134711838987085478833841242112000\n"
     ]
    }
   ],
   "source": [
    "flat_product(lst)"
   ]
  },
  {
   "cell_type": "markdown",
   "id": "ca14bdbd",
   "metadata": {},
   "source": [
    "**Q2. Write a python program for encrypting a message sent to you by your friend. The logic of encryption\n",
    "should be such that, for a the output should be z. For b, the output should be y. For c, the output should\n",
    "be x respectively. Also, the whitespace should be replaced with a dollar sign. Keep the punctuation\n",
    "marks unchanged.**\n",
    "\n",
    "**Input Sentence: I want to become a Data Scientist.**\n",
    "\n",
    "**Encrypt the above input sentence using the program you just created.**\n",
    "\n",
    "**Note: Convert the given input sentence into lowercase before encrypting. The final output should be\n",
    "lowercase.**"
   ]
  },
  {
   "cell_type": "code",
   "execution_count": 64,
   "id": "e3b014b5",
   "metadata": {},
   "outputs": [],
   "source": [
    "import string\n",
    "\n",
    "def encrypted_message(strg):\n",
    "    ascii_alph=string.ascii_lowercase\n",
    "    encry_dict=dict(zip(ascii_alph,ascii_alph[::-1]))\n",
    "    encry_dict[' ']='$'\n",
    "    \n",
    "    for i in string.punctuation:\n",
    "        encry_dict[i]=i\n",
    "        \n",
    "    for num in string.digits:\n",
    "        encry_dict[num]=num\n",
    "        \n",
    "    encry_out=\" \"\n",
    "    \n",
    "    for char in strg.lower():\n",
    "        encry_out=encry_out + encry_dict[char]\n",
    "        \n",
    "    return encry_out\n",
    "        \n",
    "    "
   ]
  },
  {
   "cell_type": "code",
   "execution_count": 67,
   "id": "880a4c53",
   "metadata": {},
   "outputs": [
    {
     "data": {
      "text/plain": [
       "' svool$,$nb$mznv$rh$hsivbzhs$zmw$ztv$rh$28$**#^&'"
      ]
     },
     "execution_count": 67,
     "metadata": {},
     "output_type": "execute_result"
    }
   ],
   "source": [
    "#test case \n",
    "\n",
    "strg=\"Hello , my name is shreyash and age is 28 **#^&\"\n",
    "encrypted_message(strg)"
   ]
  },
  {
   "cell_type": "code",
   "execution_count": 66,
   "id": "33000b93",
   "metadata": {},
   "outputs": [
    {
     "data": {
      "text/plain": [
       "' r$dzmg$gl$yvxlnv$z$wzgz$hxrvmgrhg.'"
      ]
     },
     "execution_count": 66,
     "metadata": {},
     "output_type": "execute_result"
    }
   ],
   "source": [
    "#test case\n",
    "a= \"I want to become a Data Scientist.\"\n",
    "encrypted_message(a)"
   ]
  }
 ],
 "metadata": {
  "kernelspec": {
   "display_name": "Python 3 (ipykernel)",
   "language": "python",
   "name": "python3"
  },
  "language_info": {
   "codemirror_mode": {
    "name": "ipython",
    "version": 3
   },
   "file_extension": ".py",
   "mimetype": "text/x-python",
   "name": "python",
   "nbconvert_exporter": "python",
   "pygments_lexer": "ipython3",
   "version": "3.11.5"
  }
 },
 "nbformat": 4,
 "nbformat_minor": 5
}
