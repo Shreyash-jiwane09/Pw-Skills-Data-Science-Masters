{
 "cells": [
  {
   "cell_type": "markdown",
   "id": "7a2db657",
   "metadata": {},
   "source": [
    "Consider the below code to answer further questions:\n",
    "\n",
    "\n",
    "import numpy as np\n",
    "\n",
    "list_ = [ ‘1’ , ’2’ , ‘3’ , ‘4’ , ‘5’ ]\n",
    "\n",
    "array_list = np.array(object = list_)"
   ]
  },
  {
   "cell_type": "markdown",
   "id": "d7ad3e25",
   "metadata": {},
   "source": [
    "## Q1. Is there any difference in the data type of variables list_ and array_list? If there is then write a code to print the data types of both the variables."
   ]
  },
  {
   "cell_type": "code",
   "execution_count": 6,
   "id": "e59ef538",
   "metadata": {},
   "outputs": [],
   "source": [
    "import numpy as np\n",
    "list_ = [ '1' , '2' , '3' , '4' , '5' ]\n",
    "array_list = np.array(object = list_)"
   ]
  },
  {
   "cell_type": "markdown",
   "id": "ec596f3f",
   "metadata": {},
   "source": [
    "Yes,there is a difference between the data type of variables \"list_\" & \"array_list\".\n",
    "\"list_\" variables contains the data type : Python Strings whereas \"array_list\" datasets contains data type :\n",
    "array.strings "
   ]
  },
  {
   "cell_type": "markdown",
   "id": "5639adb2",
   "metadata": {},
   "source": [
    "### Code to check the data type "
   ]
  },
  {
   "cell_type": "code",
   "execution_count": 11,
   "id": "6a88de9e",
   "metadata": {},
   "outputs": [
    {
     "name": "stdout",
     "output_type": "stream",
     "text": [
      "Type of list_: <class 'list'>\n",
      "Type of array_list: <class 'numpy.ndarray'>\n"
     ]
    }
   ],
   "source": [
    "print(\"Type of list_:\",type(list_))\n",
    "print(\"Type of array_list:\",type(array_list))"
   ]
  },
  {
   "cell_type": "markdown",
   "id": "cdacc155",
   "metadata": {},
   "source": [
    "## Q2. Write a code to print the data type of each and every element of both the variables list_ and arra_list."
   ]
  },
  {
   "cell_type": "code",
   "execution_count": 19,
   "id": "f377d1ef",
   "metadata": {},
   "outputs": [
    {
     "name": "stdout",
     "output_type": "stream",
     "text": [
      "Value of Element : 1 and data of Element : <class 'str'>\n",
      "Value of Element : 2 and data of Element : <class 'str'>\n",
      "Value of Element : 3 and data of Element : <class 'str'>\n",
      "Value of Element : 4 and data of Element : <class 'str'>\n",
      "Value of Element : 5 and data of Element : <class 'str'>\n"
     ]
    }
   ],
   "source": [
    "#priniting data type of each and every element in list_ \n",
    "\n",
    "for i in list_:\n",
    "    print(f\"Value of Element : {i} and data of Element : {type(i)}\")\n",
    "    "
   ]
  },
  {
   "cell_type": "code",
   "execution_count": 21,
   "id": "8543be91",
   "metadata": {},
   "outputs": [
    {
     "name": "stdout",
     "output_type": "stream",
     "text": [
      "Value of Element : 1 and data of Element : <class 'numpy.str_'>\n",
      "Value of Element : 2 and data of Element : <class 'numpy.str_'>\n",
      "Value of Element : 3 and data of Element : <class 'numpy.str_'>\n",
      "Value of Element : 4 and data of Element : <class 'numpy.str_'>\n",
      "Value of Element : 5 and data of Element : <class 'numpy.str_'>\n"
     ]
    }
   ],
   "source": [
    "#priniting data type of each and every element in array_list:\n",
    "\n",
    "for i in array_list:\n",
    "    print(f\"Value of Element : {i} and data of Element : {type(i)}\")"
   ]
  },
  {
   "cell_type": "markdown",
   "id": "f3804481",
   "metadata": {},
   "source": [
    "## Q3. Considering the following changes in the variable, array_list:\n",
    "array_list = np.array(object = list_, dtype = int)\n",
    "## Will there be any difference in the data type of the elements present in both the variables, list_ and arra_list? If so then print the data types of each and every element present in both the variables, list_ and arra_list."
   ]
  },
  {
   "cell_type": "markdown",
   "id": "e5fd5fe2",
   "metadata": {},
   "source": [
    "Yes,there is a difference between the data type of variables \"list_\" & \"array_list\".\n",
    "\"list_\" variables contains the data type : Python Strings whereas \"array_list\" datasets contains data type :\n",
    "numpy.integer "
   ]
  },
  {
   "cell_type": "code",
   "execution_count": 22,
   "id": "713960b4",
   "metadata": {},
   "outputs": [],
   "source": [
    "array_list = np.array(object = list_, dtype = int)"
   ]
  },
  {
   "cell_type": "code",
   "execution_count": 23,
   "id": "2023e703",
   "metadata": {},
   "outputs": [
    {
     "data": {
      "text/plain": [
       "array([1, 2, 3, 4, 5])"
      ]
     },
     "execution_count": 23,
     "metadata": {},
     "output_type": "execute_result"
    }
   ],
   "source": [
    "##viewing the array\n",
    "array_list"
   ]
  },
  {
   "cell_type": "code",
   "execution_count": 24,
   "id": "10e0d47d",
   "metadata": {},
   "outputs": [
    {
     "name": "stdout",
     "output_type": "stream",
     "text": [
      "Value of Element : 1 and data of Element : <class 'str'>\n",
      "Value of Element : 2 and data of Element : <class 'str'>\n",
      "Value of Element : 3 and data of Element : <class 'str'>\n",
      "Value of Element : 4 and data of Element : <class 'str'>\n",
      "Value of Element : 5 and data of Element : <class 'str'>\n"
     ]
    }
   ],
   "source": [
    "#priniting data type of each and every element in list_ \n",
    "\n",
    "for i in list_:\n",
    "    print(f\"Value of Element : {i} and data of Element : {type(i)}\")"
   ]
  },
  {
   "cell_type": "code",
   "execution_count": 26,
   "id": "19986190",
   "metadata": {},
   "outputs": [
    {
     "name": "stdout",
     "output_type": "stream",
     "text": [
      "Value of Element : 1 and data of Element : <class 'numpy.int32'>\n",
      "Value of Element : 2 and data of Element : <class 'numpy.int32'>\n",
      "Value of Element : 3 and data of Element : <class 'numpy.int32'>\n",
      "Value of Element : 4 and data of Element : <class 'numpy.int32'>\n",
      "Value of Element : 5 and data of Element : <class 'numpy.int32'>\n"
     ]
    }
   ],
   "source": [
    "#priniting data type of each and every element in array_list:\n",
    "\n",
    "for i in array_list:\n",
    "    print(f\"Value of Element : {i} and data of Element : {type(i)}\")"
   ]
  },
  {
   "cell_type": "markdown",
   "id": "586c7699",
   "metadata": {},
   "source": [
    "## Consider the below code to answer further questions:\n",
    "\n",
    "import numpy as np\n",
    "\n",
    "num_list = [ [ 1 , 2 , 3 ] , [ 4 , 5 , 6 ] ]\n",
    "\n",
    "num_array = np.array(object = num_list)"
   ]
  },
  {
   "cell_type": "code",
   "execution_count": 28,
   "id": "c20fe3ba",
   "metadata": {},
   "outputs": [],
   "source": [
    "#Given list\n",
    "num_list = [ [ 1 , 2 , 3 ] , [ 4 , 5 , 6 ] ]"
   ]
  },
  {
   "cell_type": "code",
   "execution_count": 32,
   "id": "7f7edaae",
   "metadata": {},
   "outputs": [
    {
     "data": {
      "text/plain": [
       "array([[1, 2, 3],\n",
       "       [4, 5, 6]])"
      ]
     },
     "execution_count": 32,
     "metadata": {},
     "output_type": "execute_result"
    }
   ],
   "source": [
    "#viewing array \n",
    "num_array = np.array(object = num_list)\n",
    "num_array"
   ]
  },
  {
   "cell_type": "markdown",
   "id": "ff5b86b9",
   "metadata": {},
   "source": [
    "### Q4. Write a code to find the following characteristics of variable, num_array:\n",
    "    (i) shape\n",
    "    (ii) size"
   ]
  },
  {
   "cell_type": "markdown",
   "id": "748da524",
   "metadata": {},
   "source": [
    "### Characteristics of variable, num_array:"
   ]
  },
  {
   "cell_type": "code",
   "execution_count": 35,
   "id": "9395fdca",
   "metadata": {},
   "outputs": [
    {
     "name": "stdout",
     "output_type": "stream",
     "text": [
      "Shape of num_array : (2, 3)\n",
      "\n",
      "Size of num_array : 6\n"
     ]
    }
   ],
   "source": [
    "#Shape \n",
    "print(f\"Shape of num_array : {num_array.shape}\")\n",
    "#Size \n",
    "print(f\"\\nSize of num_array : {num_array.size}\")"
   ]
  },
  {
   "cell_type": "markdown",
   "id": "4f083ead",
   "metadata": {},
   "source": [
    "## Q5. Write a code to create numpy array of 3*3 matrix containing zeros only, using a numpy array creation function.\n",
    "\n",
    "## [Hint: The size of the array will be 9 and the shape will be (3,3).]"
   ]
  },
  {
   "cell_type": "code",
   "execution_count": 36,
   "id": "89b4305f",
   "metadata": {},
   "outputs": [
    {
     "data": {
      "text/plain": [
       "array([[0., 0., 0.],\n",
       "       [0., 0., 0.],\n",
       "       [0., 0., 0.]])"
      ]
     },
     "execution_count": 36,
     "metadata": {},
     "output_type": "execute_result"
    }
   ],
   "source": [
    "np.zeros((3,3))"
   ]
  },
  {
   "cell_type": "markdown",
   "id": "463d6267",
   "metadata": {},
   "source": [
    "## Q6. Create an identity matrix of shape (5,5) using numpy functions?\n",
    "## [Hint: An identity matrix is a matrix containing 1 diagonally and other elements will be 0.]"
   ]
  },
  {
   "cell_type": "code",
   "execution_count": 41,
   "id": "edefaafe",
   "metadata": {},
   "outputs": [],
   "source": [
    "identity_mat=np.eye(5,5)"
   ]
  },
  {
   "cell_type": "code",
   "execution_count": 42,
   "id": "624e4789",
   "metadata": {},
   "outputs": [
    {
     "data": {
      "text/plain": [
       "array([[1., 0., 0., 0., 0.],\n",
       "       [0., 1., 0., 0., 0.],\n",
       "       [0., 0., 1., 0., 0.],\n",
       "       [0., 0., 0., 1., 0.],\n",
       "       [0., 0., 0., 0., 1.]])"
      ]
     },
     "execution_count": 42,
     "metadata": {},
     "output_type": "execute_result"
    }
   ],
   "source": [
    "identity_mat"
   ]
  }
 ],
 "metadata": {
  "kernelspec": {
   "display_name": "Python 3 (ipykernel)",
   "language": "python",
   "name": "python3"
  },
  "language_info": {
   "codemirror_mode": {
    "name": "ipython",
    "version": 3
   },
   "file_extension": ".py",
   "mimetype": "text/x-python",
   "name": "python",
   "nbconvert_exporter": "python",
   "pygments_lexer": "ipython3",
   "version": "3.11.5"
  }
 },
 "nbformat": 4,
 "nbformat_minor": 5
}
