{
 "cells": [
  {
   "cell_type": "markdown",
   "id": "e2dc7e15",
   "metadata": {},
   "source": [
    "Q.1)"
   ]
  },
  {
   "cell_type": "code",
   "execution_count": 14,
   "id": "80e5f717",
   "metadata": {},
   "outputs": [
    {
     "name": "stdout",
     "output_type": "stream",
     "text": [
      "Enter your percentage to know grade: 85\n",
      "\n",
      "You are graded as 'B'\n"
     ]
    }
   ],
   "source": [
    "\n",
    "percentage = int(input(\"Enter your percentage to know grade: \"))\n",
    "if percentage > 90:\n",
    "    print(\"\\nYou are graded as 'A'\")\n",
    "elif percentage > 80 and  percentage<=90:\n",
    "    print(\"\\nYou are graded as 'B'\")\n",
    "elif percentage >=60 and percentage <=80:\n",
    "    print(\"\\nYou are graded as 'C'\")\n",
    "elif percentage <60:\n",
    "    print(\"\\nYou are graded as 'D'\")\n",
    "\n"
   ]
  },
  {
   "cell_type": "markdown",
   "id": "50f71f41",
   "metadata": {},
   "source": [
    "Q.2)"
   ]
  },
  {
   "cell_type": "code",
   "execution_count": 1,
   "id": "9526cb97",
   "metadata": {},
   "outputs": [
    {
     "name": "stdout",
     "output_type": "stream",
     "text": [
      "Enter the cost price of a bike : 454022124\n",
      "Calculated road tax is Rs.385918805.4\n"
     ]
    }
   ],
   "source": [
    "cost_price = int(input(\"Enter the cost price of a bike : \"))\n",
    "if cost_price >100000:\n",
    "    print(f\"Calculated road tax is Rs.{cost_price*0.85}\")\n",
    "elif cost_price >50000 and cost_price <=100000:\n",
    "    print(f\"Calculated road tax is Rs.{(cost_price*0.9)}\")\n",
    "elif cost_price <=50000:\n",
    "    print(f\"Calculated road tax is Rs.{cost_price*0.95}\")"
   ]
  },
  {
   "cell_type": "markdown",
   "id": "5be9f27f",
   "metadata": {},
   "source": [
    "Q.3)"
   ]
  },
  {
   "cell_type": "code",
   "execution_count": 12,
   "id": "13963aa5",
   "metadata": {},
   "outputs": [
    {
     "name": "stdout",
     "output_type": "stream",
     "text": [
      "Enter the City name to know monument : Chandrapur\n",
      "Invalid City\n"
     ]
    }
   ],
   "source": [
    "city_name = input(\"Enter the City name to know monument : \").lower()\n",
    "if city_name==\"delhi\":\n",
    "    print(\"Monumemt present is Red Fort.\")\n",
    "elif city_name==\"agra\":\n",
    "    print(\"Monumemt present is Taj Mahal.\")\n",
    "elif city_name==\"jaipur\":\n",
    "    print(\"Monumemt present is Jal Mahal.\")\n",
    "else:\n",
    "    print(\"Invalid City\")"
   ]
  },
  {
   "cell_type": "markdown",
   "id": "09e4dff0",
   "metadata": {},
   "source": [
    "**Q.4) Check how many times a given number can be divided by 3 before it is less than or equal to 10.**"
   ]
  },
  {
   "cell_type": "code",
   "execution_count": 27,
   "id": "b96e7448",
   "metadata": {},
   "outputs": [
    {
     "name": "stdout",
     "output_type": "stream",
     "text": [
      "Enter the number: 180\n",
      "Total iterations required: 3\n"
     ]
    }
   ],
   "source": [
    "number = int(input(\"Enter the number: \"))\n",
    "count = 0\n",
    "\n",
    "while number > 10:\n",
    "    # Divide the number by 3\n",
    "    number = number / 3\n",
    "    # Increase the count\n",
    "    count =count + 1\n",
    "\n",
    "print('Total iterations required:', count)\n"
   ]
  },
  {
   "cell_type": "markdown",
   "id": "76b3543a",
   "metadata": {},
   "source": [
    "**Q.5) Why and when to Use while loop in Python give a detailed description with example.**\n",
    "\n",
    "Ans.\n",
    "Python While Loop is used to execute a block of statements repeatedly until a given condition is satisfied. When the condition becomes false, the line immediately after the loop in the program is executed.While loop falls under the category of indefinite iteration. Indefinite iteration means that the number of times the loop is executed isn’t specified explicitly in advance. \n",
    "Statements represent all the statements indented by the same number of character spaces after a programming construct are considered to be part of a single block of code. Python uses indentation as its method of grouping statements. When a while loop is executed, expr is first evaluated in a Boolean context and if it is true, the loop body is executed. Then the expr is checked again, if it is still true then the body is executed again and this continues until the expression becomes false.\n"
   ]
  },
  {
   "cell_type": "code",
   "execution_count": 29,
   "id": "afd02548",
   "metadata": {},
   "outputs": [
    {
     "name": "stdout",
     "output_type": "stream",
     "text": [
      "Hello Geek\n",
      "Hello Geek\n",
      "Hello Geek\n"
     ]
    }
   ],
   "source": [
    "# Python program to illustrate \n",
    "# while loop \n",
    "count = 0\n",
    "while (count < 3): \n",
    "    count = count + 1\n",
    "    print(\"Hello Geek\")\n"
   ]
  },
  {
   "cell_type": "code",
   "execution_count": null,
   "id": "15e16f44",
   "metadata": {},
   "outputs": [],
   "source": []
  },
  {
   "cell_type": "code",
   "execution_count": null,
   "id": "c422d3c5",
   "metadata": {},
   "outputs": [],
   "source": []
  }
 ],
 "metadata": {
  "kernelspec": {
   "display_name": "Python 3 (ipykernel)",
   "language": "python",
   "name": "python3"
  },
  "language_info": {
   "codemirror_mode": {
    "name": "ipython",
    "version": 3
   },
   "file_extension": ".py",
   "mimetype": "text/x-python",
   "name": "python",
   "nbconvert_exporter": "python",
   "pygments_lexer": "ipython3",
   "version": "3.11.5"
  }
 },
 "nbformat": 4,
 "nbformat_minor": 5
}
