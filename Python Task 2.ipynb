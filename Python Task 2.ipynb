{
 "cells": [
  {
   "cell_type": "markdown",
   "id": "b1982e25",
   "metadata": {},
   "source": [
    "**Q1. You are writing code for a company. The requirement of the company is that you create a python\n",
    "function that will check whether the password entered by the user is correct or not. The function should\n",
    "take the password as input and return the string “Valid Password” if the entered password follows the\n",
    "below-given password guidelines else it should return “Invalid Password”.**\n",
    "\n",
    "\n",
    "**Note:**\n",
    "1. The Password should contain at least two uppercase letters and at least two lowercase letters.\n",
    "2. The Password should contain at least a number and three special characters.\n",
    "3. The length of the password should be 10 characters long."
   ]
  },
  {
   "cell_type": "code",
   "execution_count": 1,
   "id": "cb6d1018",
   "metadata": {},
   "outputs": [],
   "source": [
    "def count_char(a):\n",
    "    upper_count=0\n",
    "    lower_count=0\n",
    "    num_count=0\n",
    "    symbol_count=0\n",
    "    \n",
    "    for char in a:\n",
    "        if char.isalpha()==True:\n",
    "            if char.isupper()==True:\n",
    "                upper_count=upper_count+1\n",
    "            else:\n",
    "                lower_count=lower_count+1\n",
    "            \n",
    "        elif char.isnumeric()==True:\n",
    "            num_count=num_count+1\n",
    "        else:\n",
    "            symbol_count=symbol_count+1\n",
    "        \n",
    "    return upper_count,lower_count,num_count,symbol_count\n",
    "        \n",
    "    "
   ]
  },
  {
   "cell_type": "code",
   "execution_count": 2,
   "id": "c4a700a5",
   "metadata": {},
   "outputs": [
    {
     "data": {
      "text/plain": [
       "(1, 3, 3, 2)"
      ]
     },
     "execution_count": 2,
     "metadata": {},
     "output_type": "execute_result"
    }
   ],
   "source": [
    "count_char(\"sHey125^&\")"
   ]
  },
  {
   "cell_type": "code",
   "execution_count": 8,
   "id": "37aef054",
   "metadata": {},
   "outputs": [],
   "source": [
    "def validate_password(password):\n",
    "    \n",
    "    upper_count,lower_count,num_count,symbol_count=count_char(password)\n",
    "    \n",
    "    isValid=(upper_count>=2) and (lower_count>=2) and (num_count>=1) and (symbol_count>=3) and (len(password)>=10)\n",
    "    \n",
    "    if isValid==True:\n",
    "        return \"Valid Password\"\n",
    "    else:\n",
    "        return \"Invalid Password\""
   ]
  },
  {
   "cell_type": "code",
   "execution_count": 9,
   "id": "ce9eebd2",
   "metadata": {},
   "outputs": [
    {
     "data": {
      "text/plain": [
       "'Invalid Password'"
      ]
     },
     "execution_count": 9,
     "metadata": {},
     "output_type": "execute_result"
    }
   ],
   "source": [
    "validate_password(\"shrey@00902\")"
   ]
  },
  {
   "cell_type": "code",
   "execution_count": 10,
   "id": "d1600452",
   "metadata": {},
   "outputs": [
    {
     "data": {
      "text/plain": [
       "'Valid Password'"
      ]
     },
     "execution_count": 10,
     "metadata": {},
     "output_type": "execute_result"
    }
   ],
   "source": [
    "validate_password(\"SHre@#$09s\")"
   ]
  },
  {
   "cell_type": "markdown",
   "id": "027e6661",
   "metadata": {},
   "source": [
    "**Q2. Solve the below-given questions using at least one of the following:**\n",
    "1. Lambda function\n",
    "2. Filter function\n",
    "3. Map function\n",
    "4. List Comprehension\n",
    "* Check if the string starts with a particular letter\n",
    "* Check if the string is numeric\n",
    "* Sort a list of tuples having fruit names and their quantity. [(\"mango\",99),(\"orange\",80), (\"grapes\", 1000)-\n",
    "* Find the squares of numbers from 1 to 10\n",
    "* Find the cube root of numbers from 1 to 10\n",
    "* Check if a given number is even\n",
    "* Filter odd numbers from the given list.\n",
    "[1,2,3,4,5,6,7,8,9,10]\n",
    "* Sort a list of integers into positive and negative integers lists.\n",
    "[1,2,3,4,5,6,-1,-2,-3,-4,-5,0]"
   ]
  },
  {
   "cell_type": "markdown",
   "id": "3b0d7e88",
   "metadata": {},
   "source": [
    "### Answers: "
   ]
  },
  {
   "cell_type": "markdown",
   "id": "467f3bf3",
   "metadata": {},
   "source": [
    "* Check if the string starts with a particular letter"
   ]
  },
  {
   "cell_type": "code",
   "execution_count": 24,
   "id": "7b97a8a0",
   "metadata": {},
   "outputs": [
    {
     "name": "stdout",
     "output_type": "stream",
     "text": [
      "True\n",
      "True\n",
      "False\n",
      "True\n"
     ]
    }
   ],
   "source": [
    "# Checking if string starts with letter H using lambda function\n",
    "# Used lower function for case unification\n",
    "\n",
    "string_starts_s=lambda x:x[0].lower()==\"s\"\n",
    "\n",
    "#examples\n",
    "\n",
    "print(string_starts_s(\"shreyash\"))\n",
    "print(string_starts_s(\"sauce\"))\n",
    "print(string_starts_s(\"xylos\"))\n",
    "print(string_starts_s(\"Short\"))"
   ]
  },
  {
   "cell_type": "markdown",
   "id": "1798ac2d",
   "metadata": {},
   "source": [
    "* Check if the string is numeric"
   ]
  },
  {
   "cell_type": "code",
   "execution_count": 65,
   "id": "c4cbb239",
   "metadata": {},
   "outputs": [
    {
     "name": "stdout",
     "output_type": "stream",
     "text": [
      "True\n",
      "True\n",
      "True\n",
      "False\n"
     ]
    }
   ],
   "source": [
    "is_numeric=(lambda x:x.replace(\".\",\"\",1).isdigit())\n",
    "is_numeric_including_neg=lambda a: is_numeric(a[1:]) if a[0]=='-' else is_numeric(a)\n",
    "print(is_numeric(\"52312506\"))\n",
    "print(is_numeric_including_neg(\"-4586\"))\n",
    "print(is_numeric_including_neg(\"45.365\"))\n",
    "print(is_numeric_including_neg(\"785-\"))"
   ]
  },
  {
   "cell_type": "markdown",
   "id": "bd9772cf",
   "metadata": {},
   "source": [
    "* Sort a list of tuples having fruit names and their quantity. [(\"mango\",99),(\"orange\",80), (\"grapes\", 1000)"
   ]
  },
  {
   "cell_type": "code",
   "execution_count": 100,
   "id": "c30ad5cb",
   "metadata": {},
   "outputs": [
    {
     "name": "stdout",
     "output_type": "stream",
     "text": [
      "[('orange', 80), ('mango', 99), ('grapes', 1000)]\n"
     ]
    }
   ],
   "source": [
    "fruits= [(\"mango\",99),(\"orange\",80), (\"grapes\", 1000)]\n",
    "sorted_fruits=sorted(fruits,key=lambda x:x[1])\n",
    "print(sorted_fruits)"
   ]
  },
  {
   "cell_type": "markdown",
   "id": "5dacff95",
   "metadata": {},
   "source": [
    "* Find the squares of numbers from 1 to 10"
   ]
  },
  {
   "cell_type": "code",
   "execution_count": 102,
   "id": "5f0dea2e",
   "metadata": {},
   "outputs": [
    {
     "name": "stdout",
     "output_type": "stream",
     "text": [
      "[1, 4, 9, 16, 25, 36, 49, 64, 81, 100]\n"
     ]
    }
   ],
   "source": [
    "sqr=[ i**2 for i in range(1,11)]\n",
    "print(sqr)"
   ]
  },
  {
   "cell_type": "markdown",
   "id": "8bb63623",
   "metadata": {},
   "source": [
    "* Find the cube root of numbers from 1 to 10\n"
   ]
  },
  {
   "cell_type": "code",
   "execution_count": 115,
   "id": "b75bec36",
   "metadata": {},
   "outputs": [
    {
     "name": "stdout",
     "output_type": "stream",
     "text": [
      "[1.0, 1.2599210498948732, 1.4422495703074083, 1.5874010519681994, 1.7099759466766968, 1.8171205928321397, 1.912931182772389, 2.0, 2.080083823051904, 2.154434690031884] "
     ]
    }
   ],
   "source": [
    "#using map and lambda function \n",
    "cube_roots=list(map(lambda x:x**(1/3),range(1,11)))\n",
    "print(cube_roots,end=\" \")\n"
   ]
  },
  {
   "cell_type": "markdown",
   "id": "97967509",
   "metadata": {},
   "source": [
    "* Check if a given number is even"
   ]
  },
  {
   "cell_type": "code",
   "execution_count": 118,
   "id": "c01740b9",
   "metadata": {},
   "outputs": [
    {
     "name": "stdout",
     "output_type": "stream",
     "text": [
      "True\n",
      "False\n",
      "False\n",
      "True\n"
     ]
    }
   ],
   "source": [
    "# using list comprehension \n",
    "even_num=lambda x:x%2==0\n",
    "\n",
    "print(even_num(2))\n",
    "print(even_num(5))\n",
    "print(even_num(9))\n",
    "print(even_num(58))"
   ]
  },
  {
   "cell_type": "markdown",
   "id": "b06e9cee",
   "metadata": {},
   "source": [
    "* Filter odd numbers from the given list. [1,2,3,4,5,6,7,8,9,10]"
   ]
  },
  {
   "cell_type": "code",
   "execution_count": 120,
   "id": "b51eee13",
   "metadata": {},
   "outputs": [
    {
     "data": {
      "text/plain": [
       "[1, 3, 5, 7, 9]"
      ]
     },
     "execution_count": 120,
     "metadata": {},
     "output_type": "execute_result"
    }
   ],
   "source": [
    "list1=[1,2,3,4,5,6,7,8,9,10]\n",
    "list(filter(lambda x:x%2!=0,list1))\n"
   ]
  },
  {
   "cell_type": "markdown",
   "id": "c1139d3a",
   "metadata": {},
   "source": [
    "* Sort a list of integers into positive and negative integers lists. [1,2,3,4,5,6,-1,-2,-3,-4,-5,0]\n"
   ]
  },
  {
   "cell_type": "code",
   "execution_count": 122,
   "id": "1f7b076c",
   "metadata": {},
   "outputs": [
    {
     "name": "stdout",
     "output_type": "stream",
     "text": [
      "Positive Numbers:  [1, 2, 3, 4, 5, 6]\n",
      "Negative Numbers:  [-5, -4, -3, -2, -1]\n"
     ]
    }
   ],
   "source": [
    "lst=[1,2,3,4,5,6,-1,-2,-3,-4,-5,0]\n",
    "\n",
    "pos_num=sorted([i for i in lst if i>0])\n",
    "neg_num=sorted([i for i in lst if i<0])\n",
    "print(\"Positive Numbers: \",pos_num)\n",
    "print(\"Negative Numbers: \",neg_num)"
   ]
  },
  {
   "cell_type": "code",
   "execution_count": null,
   "id": "2dc4c5be",
   "metadata": {},
   "outputs": [],
   "source": []
  }
 ],
 "metadata": {
  "kernelspec": {
   "display_name": "Python 3 (ipykernel)",
   "language": "python",
   "name": "python3"
  },
  "language_info": {
   "codemirror_mode": {
    "name": "ipython",
    "version": 3
   },
   "file_extension": ".py",
   "mimetype": "text/x-python",
   "name": "python",
   "nbconvert_exporter": "python",
   "pygments_lexer": "ipython3",
   "version": "3.11.5"
  }
 },
 "nbformat": 4,
 "nbformat_minor": 5
}
